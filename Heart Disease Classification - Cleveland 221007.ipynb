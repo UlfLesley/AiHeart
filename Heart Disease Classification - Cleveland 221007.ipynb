{
 "cells": [
  {
   "cell_type": "markdown",
   "id": "14b624b5",
   "metadata": {},
   "source": [
    "# Heart Disease Classification - Cleveland"
   ]
  },
  {
   "cell_type": "markdown",
   "id": "16386174",
   "metadata": {},
   "source": [
    "Dataset: UCI Heart Disease dataset available at the UCI Machine Learning data repository - http://archive.ics.uci.edu/ml/datasets/Heart+Disease\n",
    "\n",
    "### Goal\n",
    "- Given clinical parameters about a patient in a primary care setting, predict if a patient has heart disease or not\n",
    "\n",
    "\n",
    "### Features in Dataset\n",
    "- There are 13 features in the original Cleveland dataset\n",
    "1. `age`: Age of the patient in years\n",
    "2. `sex`: 1 = Male, 0 = Female\n",
    "3. `cp`: chest pain type, 1 = typical angina, 2 = atypical angina, 3 = non-anginal pain, 4 = asymptomatic\n",
    "4. `trestbps`: resting blood pressure in mmHg on admission to the hospital\n",
    "5. `chol`: serum cholesterol in mg/dl\n",
    "6. `fbs`: if fasting blood sugar > 120 mg/dl, 1 = true, 0 = false\n",
    "7. `restecg`: resting electrocardiographic results, 0 = normal, 1 = having ST-T wave abnormality, 2 = probable or definite left ventricular hypertrophy by Estes' criteria\n",
    "8. `thalach`: maximum heart rate achieved\n",
    "9. `exang`: exercise-induced angina, 1 = yes, 0 = no\n",
    "10. `oldpeak`: ST depression induced by exercise relative to rest\n",
    "11. `slope`: the slope of the peak exercise ST segment, 1 = upsloping, 2 = flat, 3 = downsloping\n",
    "12. `ca`: number of major vessels (0-3) colored by fluoroscopy\n",
    "13. `thal`: thalassemia/defect type, 3 = normal, 6 = fixed defect, 7 = reversible defect\n",
    "\n",
    "We decided to exlcude the variables `ca` and `thal` from our application (due to medical procedures reasons, see report). These are the features according to data type:\n",
    "\n",
    "\n",
    "- Categorical features: `sex`, `cp`, `restecg`, `slope`\n",
    "- Binary features: `exang`, `fbs`\n",
    "- Numerical features: `age`, `trestbps`, `chol`, `thalach`, `oldpeak`\n",
    "\n",
    "\n",
    "### Class Label\n",
    "- The predicted class label is `num` that we will replace it with the name `target`\n",
    "- The \"goal\" of the application refers to the presence of heart disease in the patient and it is valued from 0 (no presence of Health disease) to 1,2,3 4 (presence of Heart disease). \n",
    "- A the physicians are only interested in konowing if the patient is sick or not, we decided to create a binary classification model 0, no presence of Heart disease, and 1 (will include 1,2,3,4 values) presence of Heart disease."
   ]
  },
  {
   "cell_type": "markdown",
   "id": "cbb1f47f",
   "metadata": {},
   "source": [
    "### Data preprocessing\n",
    "- There are 303 records in this dataset\n",
    "- Visual inspection of the dataframe shows there are 2 missing values, marked as '?'. These are in `thal` columns, but as we will drop this column it does not impact on the final dataset."
   ]
  },
  {
   "cell_type": "code",
   "execution_count": 1,
   "id": "1be6508d",
   "metadata": {},
   "outputs": [],
   "source": [
    "import pandas as pd\n",
    "import numpy as np\n",
    "import matplotlib.pyplot as plt"
   ]
  },
  {
   "cell_type": "code",
   "execution_count": 2,
   "id": "cafd6878",
   "metadata": {
    "scrolled": true
   },
   "outputs": [
    {
     "data": {
      "text/html": [
       "<div>\n",
       "<style scoped>\n",
       "    .dataframe tbody tr th:only-of-type {\n",
       "        vertical-align: middle;\n",
       "    }\n",
       "\n",
       "    .dataframe tbody tr th {\n",
       "        vertical-align: top;\n",
       "    }\n",
       "\n",
       "    .dataframe thead th {\n",
       "        text-align: right;\n",
       "    }\n",
       "</style>\n",
       "<table border=\"1\" class=\"dataframe\">\n",
       "  <thead>\n",
       "    <tr style=\"text-align: right;\">\n",
       "      <th></th>\n",
       "      <th>age</th>\n",
       "      <th>sex</th>\n",
       "      <th>cp</th>\n",
       "      <th>trestbps</th>\n",
       "      <th>chol</th>\n",
       "      <th>fbs</th>\n",
       "      <th>restecg</th>\n",
       "      <th>thalach</th>\n",
       "      <th>exang</th>\n",
       "      <th>oldpeak</th>\n",
       "      <th>slope</th>\n",
       "      <th>target</th>\n",
       "    </tr>\n",
       "  </thead>\n",
       "  <tbody>\n",
       "    <tr>\n",
       "      <th>0</th>\n",
       "      <td>63.0</td>\n",
       "      <td>1.0</td>\n",
       "      <td>1.0</td>\n",
       "      <td>145.0</td>\n",
       "      <td>233.0</td>\n",
       "      <td>1.0</td>\n",
       "      <td>2.0</td>\n",
       "      <td>150.0</td>\n",
       "      <td>0.0</td>\n",
       "      <td>2.3</td>\n",
       "      <td>3.0</td>\n",
       "      <td>0</td>\n",
       "    </tr>\n",
       "    <tr>\n",
       "      <th>1</th>\n",
       "      <td>67.0</td>\n",
       "      <td>1.0</td>\n",
       "      <td>4.0</td>\n",
       "      <td>160.0</td>\n",
       "      <td>286.0</td>\n",
       "      <td>0.0</td>\n",
       "      <td>2.0</td>\n",
       "      <td>108.0</td>\n",
       "      <td>1.0</td>\n",
       "      <td>1.5</td>\n",
       "      <td>2.0</td>\n",
       "      <td>2</td>\n",
       "    </tr>\n",
       "    <tr>\n",
       "      <th>2</th>\n",
       "      <td>67.0</td>\n",
       "      <td>1.0</td>\n",
       "      <td>4.0</td>\n",
       "      <td>120.0</td>\n",
       "      <td>229.0</td>\n",
       "      <td>0.0</td>\n",
       "      <td>2.0</td>\n",
       "      <td>129.0</td>\n",
       "      <td>1.0</td>\n",
       "      <td>2.6</td>\n",
       "      <td>2.0</td>\n",
       "      <td>1</td>\n",
       "    </tr>\n",
       "    <tr>\n",
       "      <th>3</th>\n",
       "      <td>37.0</td>\n",
       "      <td>1.0</td>\n",
       "      <td>3.0</td>\n",
       "      <td>130.0</td>\n",
       "      <td>250.0</td>\n",
       "      <td>0.0</td>\n",
       "      <td>0.0</td>\n",
       "      <td>187.0</td>\n",
       "      <td>0.0</td>\n",
       "      <td>3.5</td>\n",
       "      <td>3.0</td>\n",
       "      <td>0</td>\n",
       "    </tr>\n",
       "    <tr>\n",
       "      <th>4</th>\n",
       "      <td>41.0</td>\n",
       "      <td>0.0</td>\n",
       "      <td>2.0</td>\n",
       "      <td>130.0</td>\n",
       "      <td>204.0</td>\n",
       "      <td>0.0</td>\n",
       "      <td>2.0</td>\n",
       "      <td>172.0</td>\n",
       "      <td>0.0</td>\n",
       "      <td>1.4</td>\n",
       "      <td>1.0</td>\n",
       "      <td>0</td>\n",
       "    </tr>\n",
       "    <tr>\n",
       "      <th>...</th>\n",
       "      <td>...</td>\n",
       "      <td>...</td>\n",
       "      <td>...</td>\n",
       "      <td>...</td>\n",
       "      <td>...</td>\n",
       "      <td>...</td>\n",
       "      <td>...</td>\n",
       "      <td>...</td>\n",
       "      <td>...</td>\n",
       "      <td>...</td>\n",
       "      <td>...</td>\n",
       "      <td>...</td>\n",
       "    </tr>\n",
       "    <tr>\n",
       "      <th>298</th>\n",
       "      <td>45.0</td>\n",
       "      <td>1.0</td>\n",
       "      <td>1.0</td>\n",
       "      <td>110.0</td>\n",
       "      <td>264.0</td>\n",
       "      <td>0.0</td>\n",
       "      <td>0.0</td>\n",
       "      <td>132.0</td>\n",
       "      <td>0.0</td>\n",
       "      <td>1.2</td>\n",
       "      <td>2.0</td>\n",
       "      <td>1</td>\n",
       "    </tr>\n",
       "    <tr>\n",
       "      <th>299</th>\n",
       "      <td>68.0</td>\n",
       "      <td>1.0</td>\n",
       "      <td>4.0</td>\n",
       "      <td>144.0</td>\n",
       "      <td>193.0</td>\n",
       "      <td>1.0</td>\n",
       "      <td>0.0</td>\n",
       "      <td>141.0</td>\n",
       "      <td>0.0</td>\n",
       "      <td>3.4</td>\n",
       "      <td>2.0</td>\n",
       "      <td>2</td>\n",
       "    </tr>\n",
       "    <tr>\n",
       "      <th>300</th>\n",
       "      <td>57.0</td>\n",
       "      <td>1.0</td>\n",
       "      <td>4.0</td>\n",
       "      <td>130.0</td>\n",
       "      <td>131.0</td>\n",
       "      <td>0.0</td>\n",
       "      <td>0.0</td>\n",
       "      <td>115.0</td>\n",
       "      <td>1.0</td>\n",
       "      <td>1.2</td>\n",
       "      <td>2.0</td>\n",
       "      <td>3</td>\n",
       "    </tr>\n",
       "    <tr>\n",
       "      <th>301</th>\n",
       "      <td>57.0</td>\n",
       "      <td>0.0</td>\n",
       "      <td>2.0</td>\n",
       "      <td>130.0</td>\n",
       "      <td>236.0</td>\n",
       "      <td>0.0</td>\n",
       "      <td>2.0</td>\n",
       "      <td>174.0</td>\n",
       "      <td>0.0</td>\n",
       "      <td>0.0</td>\n",
       "      <td>2.0</td>\n",
       "      <td>1</td>\n",
       "    </tr>\n",
       "    <tr>\n",
       "      <th>302</th>\n",
       "      <td>38.0</td>\n",
       "      <td>1.0</td>\n",
       "      <td>3.0</td>\n",
       "      <td>138.0</td>\n",
       "      <td>175.0</td>\n",
       "      <td>0.0</td>\n",
       "      <td>0.0</td>\n",
       "      <td>173.0</td>\n",
       "      <td>0.0</td>\n",
       "      <td>0.0</td>\n",
       "      <td>1.0</td>\n",
       "      <td>0</td>\n",
       "    </tr>\n",
       "  </tbody>\n",
       "</table>\n",
       "<p>303 rows × 12 columns</p>\n",
       "</div>"
      ],
      "text/plain": [
       "      age  sex   cp  trestbps   chol  fbs  restecg  thalach  exang  oldpeak  \\\n",
       "0    63.0  1.0  1.0     145.0  233.0  1.0      2.0    150.0    0.0      2.3   \n",
       "1    67.0  1.0  4.0     160.0  286.0  0.0      2.0    108.0    1.0      1.5   \n",
       "2    67.0  1.0  4.0     120.0  229.0  0.0      2.0    129.0    1.0      2.6   \n",
       "3    37.0  1.0  3.0     130.0  250.0  0.0      0.0    187.0    0.0      3.5   \n",
       "4    41.0  0.0  2.0     130.0  204.0  0.0      2.0    172.0    0.0      1.4   \n",
       "..    ...  ...  ...       ...    ...  ...      ...      ...    ...      ...   \n",
       "298  45.0  1.0  1.0     110.0  264.0  0.0      0.0    132.0    0.0      1.2   \n",
       "299  68.0  1.0  4.0     144.0  193.0  1.0      0.0    141.0    0.0      3.4   \n",
       "300  57.0  1.0  4.0     130.0  131.0  0.0      0.0    115.0    1.0      1.2   \n",
       "301  57.0  0.0  2.0     130.0  236.0  0.0      2.0    174.0    0.0      0.0   \n",
       "302  38.0  1.0  3.0     138.0  175.0  0.0      0.0    173.0    0.0      0.0   \n",
       "\n",
       "     slope  target  \n",
       "0      3.0       0  \n",
       "1      2.0       2  \n",
       "2      2.0       1  \n",
       "3      3.0       0  \n",
       "4      1.0       0  \n",
       "..     ...     ...  \n",
       "298    2.0       1  \n",
       "299    2.0       2  \n",
       "300    2.0       3  \n",
       "301    2.0       1  \n",
       "302    1.0       0  \n",
       "\n",
       "[303 rows x 12 columns]"
      ]
     },
     "execution_count": 2,
     "metadata": {},
     "output_type": "execute_result"
    }
   ],
   "source": [
    "df = pd.read_table(\"processed.cleveland.csv\")\n",
    "df.drop(\"ca\", axis=1, inplace=True)\n",
    "df.drop(\"thal\", axis=1, inplace=True)\n",
    "df.rename(columns={\"num\": \"target\"}, inplace=True)\n",
    "df"
   ]
  },
  {
   "cell_type": "code",
   "execution_count": 3,
   "id": "0c763947",
   "metadata": {},
   "outputs": [
    {
     "data": {
      "text/plain": [
       "age         0\n",
       "sex         0\n",
       "cp          0\n",
       "trestbps    0\n",
       "chol        0\n",
       "fbs         0\n",
       "restecg     0\n",
       "thalach     0\n",
       "exang       0\n",
       "oldpeak     0\n",
       "slope       0\n",
       "target      0\n",
       "dtype: int64"
      ]
     },
     "execution_count": 3,
     "metadata": {},
     "output_type": "execute_result"
    }
   ],
   "source": [
    "# CHecking that there are no null values that our visual inpsection missed\n",
    "df.isnull().sum()"
   ]
  },
  {
   "cell_type": "code",
   "execution_count": 4,
   "id": "4f9d8888",
   "metadata": {},
   "outputs": [],
   "source": [
    "# Change target labels to 1 and 0 to create a binary classification problem.\n",
    "df[\"target\"] = df[\"target\"].replace([2, 3, 4], 1)"
   ]
  },
  {
   "cell_type": "code",
   "execution_count": 5,
   "id": "e6dc46e9",
   "metadata": {},
   "outputs": [
    {
     "data": {
      "text/plain": [
       "age         float64\n",
       "sex         float64\n",
       "cp          float64\n",
       "trestbps    float64\n",
       "chol        float64\n",
       "fbs         float64\n",
       "restecg     float64\n",
       "thalach     float64\n",
       "exang       float64\n",
       "oldpeak     float64\n",
       "slope       float64\n",
       "target        int64\n",
       "dtype: object"
      ]
     },
     "execution_count": 5,
     "metadata": {},
     "output_type": "execute_result"
    }
   ],
   "source": [
    "# Variable types\n",
    "df.dtypes"
   ]
  },
  {
   "cell_type": "markdown",
   "id": "694adbc1",
   "metadata": {},
   "source": [
    "#### The variables types are\n",
    "\n",
    "1. Binary: `fbs`, `exang` , `num`\n",
    "2. Categorical: `cp`, `restecg`, `slope`, `sex`\n",
    "3. Continuous: `age`, `trestbps`, `chol` , `thalac`, `oldpeak`"
   ]
  },
  {
   "cell_type": "code",
   "execution_count": 6,
   "id": "3642ce12",
   "metadata": {},
   "outputs": [
    {
     "data": {
      "text/plain": [
       "age          float64\n",
       "sex         category\n",
       "cp          category\n",
       "trestbps     float64\n",
       "chol         float64\n",
       "fbs             bool\n",
       "restecg     category\n",
       "thalach      float64\n",
       "exang           bool\n",
       "oldpeak      float64\n",
       "slope       category\n",
       "target          bool\n",
       "dtype: object"
      ]
     },
     "execution_count": 6,
     "metadata": {},
     "output_type": "execute_result"
    }
   ],
   "source": [
    "# Change to appropriate datatype. Do we have to do that?? \n",
    "df.cp = df.cp.astype(\"category\")\n",
    "df.restecg = df.restecg.astype(\"category\")\n",
    "df.slope = df.slope.astype(\"category\")\n",
    "df.sex = df.sex.astype(\"category\")\n",
    "df.fbs = df.fbs.astype(\"bool\")\n",
    "df.exang = df.exang.astype(\"bool\")\n",
    "df.target = df.target.astype(\"bool\")\n",
    "df.dtypes"
   ]
  },
  {
   "cell_type": "code",
   "execution_count": 7,
   "id": "7503899e",
   "metadata": {},
   "outputs": [
    {
     "data": {
      "image/png": "[encoded data removed]",
      "text/plain": [
       "<Figure size 720x360 with 4 Axes>"
      ]
     },
     "metadata": {
      "needs_background": "light"
     },
     "output_type": "display_data"
    }
   ],
   "source": [
    "# Check numeric variables for outliers\n",
    "fig, ((ax1, ax2), (ax3, ax4)) = plt.subplots(nrows=2,\n",
    "                                             ncols=2,\n",
    "                                             figsize=(10, 5))\n",
    "ax1.boxplot(df['age'], labels=['age']);\n",
    "ax2.boxplot([df['trestbps'], df['thalach']], labels=['trestbps', 'thalach']);\n",
    "ax3.boxplot(df['chol'], labels=['chol']);\n",
    "ax4.boxplot(df['oldpeak'], labels=['oldpeak']);"
   ]
  },
  {
   "cell_type": "markdown",
   "id": "e10ece56",
   "metadata": {},
   "source": [
    "- There are some outliers for `trestbps`, `thalach`, `chol` and `oldpeak`\n",
    "- Verified with medical doctor - values are plausible hence these values are kept in the dataset"
   ]
  },
  {
   "cell_type": "code",
   "execution_count": 8,
   "id": "2e02e86e",
   "metadata": {},
   "outputs": [
    {
     "data": {
      "text/plain": [
       "False    164\n",
       "True     139\n",
       "Name: target, dtype: int64"
      ]
     },
     "execution_count": 8,
     "metadata": {},
     "output_type": "execute_result"
    }
   ],
   "source": [
    "# Check class balance - 164 patients have label False ( 0, no heart disease), 139 patients have label True ( 1, heart disease)\n",
    "df[\"target\"].value_counts()"
   ]
  },
  {
   "cell_type": "code",
   "execution_count": 9,
   "id": "60a51b1a",
   "metadata": {},
   "outputs": [
    {
     "data": {
      "text/plain": [
       "<AxesSubplot:>"
      ]
     },
     "execution_count": 9,
     "metadata": {},
     "output_type": "execute_result"
    },
    {
     "data": {
      "image/png": "[encoded data removed]",
      "text/plain": [
       "<Figure size 432x288 with 1 Axes>"
      ]
     },
     "metadata": {
      "needs_background": "light"
     },
     "output_type": "display_data"
    }
   ],
   "source": [
    "# Plot class balance\n",
    "df[\"target\"].value_counts().plot.bar()"
   ]
  },
  {
   "cell_type": "markdown",
   "id": "7e956bfd",
   "metadata": {},
   "source": [
    "### Preparing dataframes for Classification Tasks\n",
    "\n",
    "This step is to **transform the pandas DataFrame into numerical Numpy arrays**, so that they can be processed by the packages in `sklearn`. At this stage, we need to **encode the categorical features** ."
   ]
  },
  {
   "cell_type": "markdown",
   "id": "3909bc60",
   "metadata": {},
   "source": [
    "### One-hot encoding"
   ]
  },
  {
   "cell_type": "code",
   "execution_count": 10,
   "id": "77bcd4bb",
   "metadata": {},
   "outputs": [],
   "source": [
    "# Perform one-hot encoding for categorical variables\n",
    "df_processed = pd.get_dummies(df, columns=[\"sex\",\"cp\",\"restecg\",\"slope\"])"
   ]
  },
  {
   "cell_type": "code",
   "execution_count": 11,
   "id": "66a355e5",
   "metadata": {},
   "outputs": [
    {
     "data": {
      "text/html": [
       "<div>\n",
       "<style scoped>\n",
       "    .dataframe tbody tr th:only-of-type {\n",
       "        vertical-align: middle;\n",
       "    }\n",
       "\n",
       "    .dataframe tbody tr th {\n",
       "        vertical-align: top;\n",
       "    }\n",
       "\n",
       "    .dataframe thead th {\n",
       "        text-align: right;\n",
       "    }\n",
       "</style>\n",
       "<table border=\"1\" class=\"dataframe\">\n",
       "  <thead>\n",
       "    <tr style=\"text-align: right;\">\n",
       "      <th></th>\n",
       "      <th>age</th>\n",
       "      <th>trestbps</th>\n",
       "      <th>chol</th>\n",
       "      <th>fbs</th>\n",
       "      <th>thalach</th>\n",
       "      <th>exang</th>\n",
       "      <th>oldpeak</th>\n",
       "      <th>target</th>\n",
       "      <th>sex_0.0</th>\n",
       "      <th>sex_1.0</th>\n",
       "      <th>cp_1.0</th>\n",
       "      <th>cp_2.0</th>\n",
       "      <th>cp_3.0</th>\n",
       "      <th>cp_4.0</th>\n",
       "      <th>restecg_0.0</th>\n",
       "      <th>restecg_1.0</th>\n",
       "      <th>restecg_2.0</th>\n",
       "      <th>slope_1.0</th>\n",
       "      <th>slope_2.0</th>\n",
       "      <th>slope_3.0</th>\n",
       "    </tr>\n",
       "  </thead>\n",
       "  <tbody>\n",
       "    <tr>\n",
       "      <th>0</th>\n",
       "      <td>63.0</td>\n",
       "      <td>145.0</td>\n",
       "      <td>233.0</td>\n",
       "      <td>True</td>\n",
       "      <td>150.0</td>\n",
       "      <td>False</td>\n",
       "      <td>2.3</td>\n",
       "      <td>False</td>\n",
       "      <td>0</td>\n",
       "      <td>1</td>\n",
       "      <td>1</td>\n",
       "      <td>0</td>\n",
       "      <td>0</td>\n",
       "      <td>0</td>\n",
       "      <td>0</td>\n",
       "      <td>0</td>\n",
       "      <td>1</td>\n",
       "      <td>0</td>\n",
       "      <td>0</td>\n",
       "      <td>1</td>\n",
       "    </tr>\n",
       "    <tr>\n",
       "      <th>1</th>\n",
       "      <td>67.0</td>\n",
       "      <td>160.0</td>\n",
       "      <td>286.0</td>\n",
       "      <td>False</td>\n",
       "      <td>108.0</td>\n",
       "      <td>True</td>\n",
       "      <td>1.5</td>\n",
       "      <td>True</td>\n",
       "      <td>0</td>\n",
       "      <td>1</td>\n",
       "      <td>0</td>\n",
       "      <td>0</td>\n",
       "      <td>0</td>\n",
       "      <td>1</td>\n",
       "      <td>0</td>\n",
       "      <td>0</td>\n",
       "      <td>1</td>\n",
       "      <td>0</td>\n",
       "      <td>1</td>\n",
       "      <td>0</td>\n",
       "    </tr>\n",
       "    <tr>\n",
       "      <th>2</th>\n",
       "      <td>67.0</td>\n",
       "      <td>120.0</td>\n",
       "      <td>229.0</td>\n",
       "      <td>False</td>\n",
       "      <td>129.0</td>\n",
       "      <td>True</td>\n",
       "      <td>2.6</td>\n",
       "      <td>True</td>\n",
       "      <td>0</td>\n",
       "      <td>1</td>\n",
       "      <td>0</td>\n",
       "      <td>0</td>\n",
       "      <td>0</td>\n",
       "      <td>1</td>\n",
       "      <td>0</td>\n",
       "      <td>0</td>\n",
       "      <td>1</td>\n",
       "      <td>0</td>\n",
       "      <td>1</td>\n",
       "      <td>0</td>\n",
       "    </tr>\n",
       "    <tr>\n",
       "      <th>3</th>\n",
       "      <td>37.0</td>\n",
       "      <td>130.0</td>\n",
       "      <td>250.0</td>\n",
       "      <td>False</td>\n",
       "      <td>187.0</td>\n",
       "      <td>False</td>\n",
       "      <td>3.5</td>\n",
       "      <td>False</td>\n",
       "      <td>0</td>\n",
       "      <td>1</td>\n",
       "      <td>0</td>\n",
       "      <td>0</td>\n",
       "      <td>1</td>\n",
       "      <td>0</td>\n",
       "      <td>1</td>\n",
       "      <td>0</td>\n",
       "      <td>0</td>\n",
       "      <td>0</td>\n",
       "      <td>0</td>\n",
       "      <td>1</td>\n",
       "    </tr>\n",
       "    <tr>\n",
       "      <th>4</th>\n",
       "      <td>41.0</td>\n",
       "      <td>130.0</td>\n",
       "      <td>204.0</td>\n",
       "      <td>False</td>\n",
       "      <td>172.0</td>\n",
       "      <td>False</td>\n",
       "      <td>1.4</td>\n",
       "      <td>False</td>\n",
       "      <td>1</td>\n",
       "      <td>0</td>\n",
       "      <td>0</td>\n",
       "      <td>1</td>\n",
       "      <td>0</td>\n",
       "      <td>0</td>\n",
       "      <td>0</td>\n",
       "      <td>0</td>\n",
       "      <td>1</td>\n",
       "      <td>1</td>\n",
       "      <td>0</td>\n",
       "      <td>0</td>\n",
       "    </tr>\n",
       "    <tr>\n",
       "      <th>...</th>\n",
       "      <td>...</td>\n",
       "      <td>...</td>\n",
       "      <td>...</td>\n",
       "      <td>...</td>\n",
       "      <td>...</td>\n",
       "      <td>...</td>\n",
       "      <td>...</td>\n",
       "      <td>...</td>\n",
       "      <td>...</td>\n",
       "      <td>...</td>\n",
       "      <td>...</td>\n",
       "      <td>...</td>\n",
       "      <td>...</td>\n",
       "      <td>...</td>\n",
       "      <td>...</td>\n",
       "      <td>...</td>\n",
       "      <td>...</td>\n",
       "      <td>...</td>\n",
       "      <td>...</td>\n",
       "      <td>...</td>\n",
       "    </tr>\n",
       "    <tr>\n",
       "      <th>298</th>\n",
       "      <td>45.0</td>\n",
       "      <td>110.0</td>\n",
       "      <td>264.0</td>\n",
       "      <td>False</td>\n",
       "      <td>132.0</td>\n",
       "      <td>False</td>\n",
       "      <td>1.2</td>\n",
       "      <td>True</td>\n",
       "      <td>0</td>\n",
       "      <td>1</td>\n",
       "      <td>1</td>\n",
       "      <td>0</td>\n",
       "      <td>0</td>\n",
       "      <td>0</td>\n",
       "      <td>1</td>\n",
       "      <td>0</td>\n",
       "      <td>0</td>\n",
       "      <td>0</td>\n",
       "      <td>1</td>\n",
       "      <td>0</td>\n",
       "    </tr>\n",
       "    <tr>\n",
       "      <th>299</th>\n",
       "      <td>68.0</td>\n",
       "      <td>144.0</td>\n",
       "      <td>193.0</td>\n",
       "      <td>True</td>\n",
       "      <td>141.0</td>\n",
       "      <td>False</td>\n",
       "      <td>3.4</td>\n",
       "      <td>True</td>\n",
       "      <td>0</td>\n",
       "      <td>1</td>\n",
       "      <td>0</td>\n",
       "      <td>0</td>\n",
       "      <td>0</td>\n",
       "      <td>1</td>\n",
       "      <td>1</td>\n",
       "      <td>0</td>\n",
       "      <td>0</td>\n",
       "      <td>0</td>\n",
       "      <td>1</td>\n",
       "      <td>0</td>\n",
       "    </tr>\n",
       "    <tr>\n",
       "      <th>300</th>\n",
       "      <td>57.0</td>\n",
       "      <td>130.0</td>\n",
       "      <td>131.0</td>\n",
       "      <td>False</td>\n",
       "      <td>115.0</td>\n",
       "      <td>True</td>\n",
       "      <td>1.2</td>\n",
       "      <td>True</td>\n",
       "      <td>0</td>\n",
       "      <td>1</td>\n",
       "      <td>0</td>\n",
       "      <td>0</td>\n",
       "      <td>0</td>\n",
       "      <td>1</td>\n",
       "      <td>1</td>\n",
       "      <td>0</td>\n",
       "      <td>0</td>\n",
       "      <td>0</td>\n",
       "      <td>1</td>\n",
       "      <td>0</td>\n",
       "    </tr>\n",
       "    <tr>\n",
       "      <th>301</th>\n",
       "      <td>57.0</td>\n",
       "      <td>130.0</td>\n",
       "      <td>236.0</td>\n",
       "      <td>False</td>\n",
       "      <td>174.0</td>\n",
       "      <td>False</td>\n",
       "      <td>0.0</td>\n",
       "      <td>True</td>\n",
       "      <td>1</td>\n",
       "      <td>0</td>\n",
       "      <td>0</td>\n",
       "      <td>1</td>\n",
       "      <td>0</td>\n",
       "      <td>0</td>\n",
       "      <td>0</td>\n",
       "      <td>0</td>\n",
       "      <td>1</td>\n",
       "      <td>0</td>\n",
       "      <td>1</td>\n",
       "      <td>0</td>\n",
       "    </tr>\n",
       "    <tr>\n",
       "      <th>302</th>\n",
       "      <td>38.0</td>\n",
       "      <td>138.0</td>\n",
       "      <td>175.0</td>\n",
       "      <td>False</td>\n",
       "      <td>173.0</td>\n",
       "      <td>False</td>\n",
       "      <td>0.0</td>\n",
       "      <td>False</td>\n",
       "      <td>0</td>\n",
       "      <td>1</td>\n",
       "      <td>0</td>\n",
       "      <td>0</td>\n",
       "      <td>1</td>\n",
       "      <td>0</td>\n",
       "      <td>1</td>\n",
       "      <td>0</td>\n",
       "      <td>0</td>\n",
       "      <td>1</td>\n",
       "      <td>0</td>\n",
       "      <td>0</td>\n",
       "    </tr>\n",
       "  </tbody>\n",
       "</table>\n",
       "<p>303 rows × 20 columns</p>\n",
       "</div>"
      ],
      "text/plain": [
       "      age  trestbps   chol    fbs  thalach  exang  oldpeak  target  sex_0.0  \\\n",
       "0    63.0     145.0  233.0   True    150.0  False      2.3   False        0   \n",
       "1    67.0     160.0  286.0  False    108.0   True      1.5    True        0   \n",
       "2    67.0     120.0  229.0  False    129.0   True      2.6    True        0   \n",
       "3    37.0     130.0  250.0  False    187.0  False      3.5   False        0   \n",
       "4    41.0     130.0  204.0  False    172.0  False      1.4   False        1   \n",
       "..    ...       ...    ...    ...      ...    ...      ...     ...      ...   \n",
       "298  45.0     110.0  264.0  False    132.0  False      1.2    True        0   \n",
       "299  68.0     144.0  193.0   True    141.0  False      3.4    True        0   \n",
       "300  57.0     130.0  131.0  False    115.0   True      1.2    True        0   \n",
       "301  57.0     130.0  236.0  False    174.0  False      0.0    True        1   \n",
       "302  38.0     138.0  175.0  False    173.0  False      0.0   False        0   \n",
       "\n",
       "     sex_1.0  cp_1.0  cp_2.0  cp_3.0  cp_4.0  restecg_0.0  restecg_1.0  \\\n",
       "0          1       1       0       0       0            0            0   \n",
       "1          1       0       0       0       1            0            0   \n",
       "2          1       0       0       0       1            0            0   \n",
       "3          1       0       0       1       0            1            0   \n",
       "4          0       0       1       0       0            0            0   \n",
       "..       ...     ...     ...     ...     ...          ...          ...   \n",
       "298        1       1       0       0       0            1            0   \n",
       "299        1       0       0       0       1            1            0   \n",
       "300        1       0       0       0       1            1            0   \n",
       "301        0       0       1       0       0            0            0   \n",
       "302        1       0       0       1       0            1            0   \n",
       "\n",
       "     restecg_2.0  slope_1.0  slope_2.0  slope_3.0  \n",
       "0              1          0          0          1  \n",
       "1              1          0          1          0  \n",
       "2              1          0          1          0  \n",
       "3              0          0          0          1  \n",
       "4              1          1          0          0  \n",
       "..           ...        ...        ...        ...  \n",
       "298            0          0          1          0  \n",
       "299            0          0          1          0  \n",
       "300            0          0          1          0  \n",
       "301            1          0          1          0  \n",
       "302            0          1          0          0  \n",
       "\n",
       "[303 rows x 20 columns]"
      ]
     },
     "execution_count": 11,
     "metadata": {},
     "output_type": "execute_result"
    }
   ],
   "source": [
    "df_processed "
   ]
  },
  {
   "cell_type": "code",
   "execution_count": 12,
   "id": "847703b1",
   "metadata": {},
   "outputs": [],
   "source": [
    "# Convert to numeric the columns that are binary\n",
    "df_processed[\"fbs\"] = df_processed[\"fbs\"].astype(int)\n",
    "df_processed[\"exang\"] = df_processed[\"exang\"].astype(int)\n",
    "df_processed[\"target\"] = df_processed[\"target\"].astype(int)\n"
   ]
  },
  {
   "cell_type": "markdown",
   "id": "4a3ed952",
   "metadata": {},
   "source": [
    "### Choose features "
   ]
  },
  {
   "cell_type": "markdown",
   "id": "69d08aca",
   "metadata": {},
   "source": [
    "### Correlation Matrix with Heatmap\n",
    "\n",
    "Correlation indicates how the features are related to each other or to the target variable. The correlation may be positive (increase in one value of the feature increases the value of the target variable) or negative (increase in one value of the feature decreases the value of the target variable) Heatmap makes it easy to classify the features are most relevant to the target variable, and we will plot the associated features of the heatmap using the seaborn library."
   ]
  },
  {
   "cell_type": "code",
   "execution_count": 13,
   "id": "c1e259dd",
   "metadata": {},
   "outputs": [
    {
     "data": {
      "text/plain": [
       "<AxesSubplot:>"
      ]
     },
     "execution_count": 13,
     "metadata": {},
     "output_type": "execute_result"
    },
    {
     "data": {
      "image/png": "[encoded data removed]",
      "text/plain": [
       "<Figure size 1440x1440 with 2 Axes>"
      ]
     },
     "metadata": {
      "needs_background": "light"
     },
     "output_type": "display_data"
    }
   ],
   "source": [
    "import seaborn as sns\n",
    "plt.figure(figsize=(20,20))\n",
    "sns.heatmap(df_processed.corr(),annot=True,cmap=\"magma\",fmt=\".2f\", linewidths=.10)"
   ]
  },
  {
   "cell_type": "markdown",
   "id": "7dcec547",
   "metadata": {},
   "source": [
    "- From the correlation matrix it seems that the `exang`, `oldpeak`, `sex`, `age`, `slope_2`and `cp_4` are more correlated with the `target `(the presense of heart disease or not) \n",
    "- `exang`: Exercise induced angina (1 = yes; 0 = no)\n",
    "- `oldpeak`: ST depression induced by exercise relative to rest (‘ST’ relates to positions on the ECG plot. See more here)\n",
    "- `slope_2`:the slope of the peak exercise ST segment — 2: upsloping\n",
    "- `cp_4`:chest pain type - 4: typical angina\n",
    "- `sex`, \n",
    "- `age`"
   ]
  },
  {
   "cell_type": "markdown",
   "id": "e5f90907",
   "metadata": {},
   "source": [
    "### Baseline modelling\n",
    "- We have refered to the flowchart that is provided in the following site that gave us a rough guide on how to approach problems with regard to which estimators to try on our data. https://scikit-learn.org/stable/tutorial/machine_learning_map/index.html\n",
    "- Models that we have used inititally are the following : Logistic Regression, RF, DT, Gradient Boosted Tree (GBT), Extreme Gradient Boosting (XGB), AdaBoost, KNN, SVC"
   ]
  },
  {
   "cell_type": "code",
   "execution_count": 14,
   "id": "5c34598a",
   "metadata": {},
   "outputs": [],
   "source": [
    "from sklearn.model_selection import cross_validate\n",
    "from sklearn.preprocessing import MinMaxScaler\n",
    "from sklearn.linear_model import LogisticRegression\n",
    "from sklearn.svm import SVC\n",
    "from sklearn.tree import DecisionTreeClassifier\n",
    "from sklearn.neighbors import KNeighborsClassifier\n",
    "from sklearn.ensemble import RandomForestClassifier, AdaBoostClassifier, GradientBoostingClassifier\n",
    "from xgboost import XGBClassifier;\n",
    "from sklearn.metrics import accuracy_score, precision_score, recall_score, f1_score\n",
    "np.random.seed(42)"
   ]
  },
  {
   "cell_type": "code",
   "execution_count": 15,
   "id": "f5cf037d",
   "metadata": {},
   "outputs": [],
   "source": [
    "# Defining feature vector and class labels\n",
    "X = df_processed.drop(\"target\", axis=1)\n",
    "y = df_processed[\"target\"]"
   ]
  },
  {
   "cell_type": "code",
   "execution_count": 16,
   "id": "7b5c3351",
   "metadata": {},
   "outputs": [
    {
     "name": "stdout",
     "output_type": "stream",
     "text": [
      "['age' 'trestbps' 'chol' 'fbs' 'thalach' 'exang' 'oldpeak' 'sex_0.0'\n",
      " 'sex_1.0' 'cp_1.0' 'cp_2.0' 'cp_3.0' 'cp_4.0' 'restecg_0.0' 'restecg_1.0'\n",
      " 'restecg_2.0' 'slope_1.0' 'slope_2.0' 'slope_3.0']\n"
     ]
    }
   ],
   "source": [
    "# Finally, we need transform from Pandas DataFrame to numerical Arrays, and store the column names\n",
    "data_X = X.values\n",
    "data_y = y.values\n",
    "\n",
    "data_colnames = X.columns.values\n",
    "print(data_colnames)"
   ]
  },
  {
   "cell_type": "code",
   "execution_count": 17,
   "id": "1a420934",
   "metadata": {},
   "outputs": [],
   "source": [
    "# Normalisation of feature vector since SVC and KNN require normalisation\n",
    "scaler = MinMaxScaler()\n",
    "data_X = scaler.fit_transform(data_X)"
   ]
  },
  {
   "cell_type": "markdown",
   "id": "90899f60",
   "metadata": {},
   "source": [
    "### Final feature matrix $\\mathbf{X}$"
   ]
  },
  {
   "cell_type": "code",
   "execution_count": 18,
   "id": "f040ec23",
   "metadata": {},
   "outputs": [
    {
     "data": {
      "text/plain": [
       "array([[0.70833333, 0.48113208, 0.24429224, ..., 0.        , 0.        ,\n",
       "        1.        ],\n",
       "       [0.79166667, 0.62264151, 0.3652968 , ..., 0.        , 1.        ,\n",
       "        0.        ],\n",
       "       [0.79166667, 0.24528302, 0.23515982, ..., 0.        , 1.        ,\n",
       "        0.        ],\n",
       "       ...,\n",
       "       [0.58333333, 0.33962264, 0.01141553, ..., 0.        , 1.        ,\n",
       "        0.        ],\n",
       "       [0.58333333, 0.33962264, 0.25114155, ..., 0.        , 1.        ,\n",
       "        0.        ],\n",
       "       [0.1875    , 0.41509434, 0.11187215, ..., 1.        , 0.        ,\n",
       "        0.        ]])"
      ]
     },
     "execution_count": 18,
     "metadata": {},
     "output_type": "execute_result"
    }
   ],
   "source": [
    "data_X"
   ]
  },
  {
   "cell_type": "markdown",
   "id": "6fa8cf18",
   "metadata": {},
   "source": [
    "### Final target array $\\mathbf{y}$"
   ]
  },
  {
   "cell_type": "code",
   "execution_count": 19,
   "id": "d718b2af",
   "metadata": {},
   "outputs": [
    {
     "data": {
      "text/plain": [
       "array([0, 1, 1, 0, 0, 0, 1, 0, 1, 1, 0, 0, 1, 0, 0, 0, 1, 0, 0, 0, 0, 0,\n",
       "       1, 1, 1, 0, 0, 0, 0, 1, 0, 1, 1, 0, 0, 0, 1, 1, 1, 0, 1, 0, 0, 0,\n",
       "       1, 1, 0, 1, 0, 0, 0, 0, 1, 0, 1, 1, 1, 1, 0, 0, 1, 0, 1, 0, 1, 1,\n",
       "       1, 0, 1, 1, 0, 1, 1, 1, 1, 0, 1, 0, 0, 1, 0, 0, 0, 1, 0, 0, 0, 0,\n",
       "       0, 0, 0, 1, 0, 0, 0, 1, 1, 1, 0, 0, 0, 0, 0, 0, 1, 0, 1, 1, 1, 1,\n",
       "       1, 1, 0, 1, 1, 0, 0, 0, 1, 1, 1, 1, 0, 1, 1, 0, 1, 1, 0, 0, 0, 0,\n",
       "       0, 0, 0, 0, 1, 1, 1, 0, 0, 1, 0, 1, 0, 1, 1, 0, 0, 0, 0, 0, 0, 1,\n",
       "       1, 1, 1, 1, 1, 0, 0, 1, 0, 0, 0, 0, 0, 0, 1, 0, 1, 0, 1, 0, 1, 1,\n",
       "       0, 1, 0, 0, 1, 1, 0, 0, 1, 0, 0, 1, 1, 1, 0, 1, 1, 1, 0, 1, 0, 0,\n",
       "       0, 1, 0, 0, 0, 0, 0, 1, 1, 1, 0, 1, 0, 1, 0, 1, 1, 0, 0, 0, 0, 0,\n",
       "       0, 0, 0, 1, 1, 0, 0, 0, 1, 1, 0, 1, 1, 0, 0, 1, 1, 1, 0, 0, 0, 0,\n",
       "       0, 1, 0, 1, 1, 1, 1, 0, 0, 1, 0, 0, 0, 0, 0, 0, 0, 1, 0, 1, 0, 0,\n",
       "       1, 1, 1, 1, 1, 0, 1, 0, 1, 0, 1, 0, 0, 0, 1, 0, 1, 0, 1, 0, 1, 1,\n",
       "       1, 0, 0, 0, 1, 0, 1, 1, 1, 0, 1, 1, 1, 1, 1, 1, 0])"
      ]
     },
     "execution_count": 19,
     "metadata": {},
     "output_type": "execute_result"
    }
   ],
   "source": [
    "data_y"
   ]
  },
  {
   "cell_type": "markdown",
   "id": "078a9404",
   "metadata": {},
   "source": [
    "## Cross Validation\n",
    "As the dataset is fairly small (normally < 300), a single train-test split has a significant problem. Normally there is a fraction of the dataset that is holdout for testing and never goes in the training process, but with a small dataset we want to use as much of the data as possible to train our model.\n",
    "\n",
    "Cross-validation (CV) is a strategy to solve the problem of single train-test split and **the correct approach** to evaluate models performance for small datasets. The CV partitions a dataset into `k` folds or groups. It then uses all but one of the folds as training data, and the final fold as test data. In subsequent loops, CV uses the other folds, one at a time, as test set, while the remaining folds form the test set. Statistics is measured for each loop, and the average accuracy etc is finally calculated over all loops.\n",
    "\n",
    "This also means that a CV creates `k` different classification models instead of only one, and note that it might be very time consuming for classifiers that take a lot of time training or very large datasets.\n",
    "\n",
    "Yet another consideration when using CV is when the target classes are very inbalanced, then **stratified k-fold cross validation** is a better option. In our dataset, however, the sick/non-sick people are roughly the same."
   ]
  },
  {
   "cell_type": "code",
   "execution_count": 20,
   "id": "6cdf86a3",
   "metadata": {},
   "outputs": [],
   "source": [
    "from sklearn.model_selection import cross_validate"
   ]
  },
  {
   "cell_type": "markdown",
   "id": "833cd2bd",
   "metadata": {},
   "source": [
    "## Baseline model evaluation with CV"
   ]
  },
  {
   "cell_type": "code",
   "execution_count": 21,
   "id": "94368737",
   "metadata": {},
   "outputs": [],
   "source": [
    "# Collate models, metrics and evaluation statistics\n",
    "models = {\n",
    "    \"Logistic Regression\": LogisticRegression(),\n",
    "    \"DT\": DecisionTreeClassifier(),\n",
    "    \"RF\": RandomForestClassifier(),\n",
    "    \"GBDT\": GradientBoostingClassifier(),\n",
    "    \"XGBoost\": XGBClassifier(),\n",
    "    \"AdaBoost\": AdaBoostClassifier(),\n",
    "    \"KNN\": KNeighborsClassifier(),\n",
    "    \"SVC\": SVC()}\n",
    "\n",
    "\n",
    "metrics = [\"accuracy\", \"precision_macro\", \"recall_macro\", \"f1_macro\", \"roc_auc\"]\n",
    "\n",
    "result_eval = pd.DataFrame({ \"classifier_name\":[],\n",
    "                                    \"fit_time\": [],\n",
    "                                    \"score_time\": [],\n",
    "                                    \"test_accuracy\": [],\n",
    "                                    \"test_precision_macro\": [],\n",
    "                                    \"test_recall_macro\": [],\n",
    "                                    \"test_f1_macro\": []\n",
    "                                    })"
   ]
  },
  {
   "cell_type": "code",
   "execution_count": 22,
   "id": "e9e1e9a6",
   "metadata": {},
   "outputs": [],
   "source": [
    "# Testing and evaluating models \n",
    "for name, classifier in models.items():\n",
    "    \n",
    "    np.random.seed(42)\n",
    "        \n",
    "    scores_cv = cross_validate(classifier, data_X, data_y, cv=5, scoring=metrics)\n",
    "\n",
    "    dict_this_result = {\"classifier_name\":[name],}\n",
    "    \n",
    "    for metric_name, score_per_fold in scores_cv.items():\n",
    "        dict_this_result[metric_name] = [scores_cv[metric_name].mean()]\n",
    "\n",
    "    this_result = pd.DataFrame(dict_this_result)\n",
    "    result_eval = pd.concat([result_eval, this_result], ignore_index=True)"
   ]
  },
  {
   "cell_type": "code",
   "execution_count": 23,
   "id": "01bf4fbc",
   "metadata": {},
   "outputs": [
    {
     "data": {
      "text/html": [
       "<div>\n",
       "<style scoped>\n",
       "    .dataframe tbody tr th:only-of-type {\n",
       "        vertical-align: middle;\n",
       "    }\n",
       "\n",
       "    .dataframe tbody tr th {\n",
       "        vertical-align: top;\n",
       "    }\n",
       "\n",
       "    .dataframe thead th {\n",
       "        text-align: right;\n",
       "    }\n",
       "</style>\n",
       "<table border=\"1\" class=\"dataframe\">\n",
       "  <thead>\n",
       "    <tr style=\"text-align: right;\">\n",
       "      <th></th>\n",
       "      <th>classifier_name</th>\n",
       "      <th>fit_time</th>\n",
       "      <th>score_time</th>\n",
       "      <th>test_accuracy</th>\n",
       "      <th>test_precision_macro</th>\n",
       "      <th>test_recall_macro</th>\n",
       "      <th>test_f1_macro</th>\n",
       "      <th>test_roc_auc</th>\n",
       "    </tr>\n",
       "  </thead>\n",
       "  <tbody>\n",
       "    <tr>\n",
       "      <th>0</th>\n",
       "      <td>Logistic Regression</td>\n",
       "      <td>0.006368</td>\n",
       "      <td>0.002200</td>\n",
       "      <td>0.778852</td>\n",
       "      <td>0.779359</td>\n",
       "      <td>0.776631</td>\n",
       "      <td>0.776390</td>\n",
       "      <td>0.882522</td>\n",
       "    </tr>\n",
       "    <tr>\n",
       "      <th>1</th>\n",
       "      <td>DT</td>\n",
       "      <td>0.001237</td>\n",
       "      <td>0.002000</td>\n",
       "      <td>0.683224</td>\n",
       "      <td>0.682273</td>\n",
       "      <td>0.679004</td>\n",
       "      <td>0.678981</td>\n",
       "      <td>0.679004</td>\n",
       "    </tr>\n",
       "    <tr>\n",
       "      <th>2</th>\n",
       "      <td>RF</td>\n",
       "      <td>0.082752</td>\n",
       "      <td>0.014200</td>\n",
       "      <td>0.769071</td>\n",
       "      <td>0.770251</td>\n",
       "      <td>0.767226</td>\n",
       "      <td>0.766973</td>\n",
       "      <td>0.852734</td>\n",
       "    </tr>\n",
       "    <tr>\n",
       "      <th>3</th>\n",
       "      <td>GBDT</td>\n",
       "      <td>0.051168</td>\n",
       "      <td>0.002200</td>\n",
       "      <td>0.765519</td>\n",
       "      <td>0.767636</td>\n",
       "      <td>0.760961</td>\n",
       "      <td>0.761306</td>\n",
       "      <td>0.839643</td>\n",
       "    </tr>\n",
       "    <tr>\n",
       "      <th>4</th>\n",
       "      <td>XGBoost</td>\n",
       "      <td>0.060000</td>\n",
       "      <td>0.005599</td>\n",
       "      <td>0.772186</td>\n",
       "      <td>0.776667</td>\n",
       "      <td>0.769545</td>\n",
       "      <td>0.768755</td>\n",
       "      <td>0.822226</td>\n",
       "    </tr>\n",
       "    <tr>\n",
       "      <th>5</th>\n",
       "      <td>AdaBoost</td>\n",
       "      <td>0.044570</td>\n",
       "      <td>0.011000</td>\n",
       "      <td>0.742459</td>\n",
       "      <td>0.744710</td>\n",
       "      <td>0.738692</td>\n",
       "      <td>0.736954</td>\n",
       "      <td>0.796248</td>\n",
       "    </tr>\n",
       "    <tr>\n",
       "      <th>6</th>\n",
       "      <td>KNN</td>\n",
       "      <td>0.000200</td>\n",
       "      <td>0.005001</td>\n",
       "      <td>0.762568</td>\n",
       "      <td>0.763770</td>\n",
       "      <td>0.763814</td>\n",
       "      <td>0.761660</td>\n",
       "      <td>0.807423</td>\n",
       "    </tr>\n",
       "    <tr>\n",
       "      <th>7</th>\n",
       "      <td>SVC</td>\n",
       "      <td>0.001801</td>\n",
       "      <td>0.003599</td>\n",
       "      <td>0.775683</td>\n",
       "      <td>0.777530</td>\n",
       "      <td>0.777691</td>\n",
       "      <td>0.774883</td>\n",
       "      <td>0.852366</td>\n",
       "    </tr>\n",
       "  </tbody>\n",
       "</table>\n",
       "</div>"
      ],
      "text/plain": [
       "       classifier_name  fit_time  score_time  test_accuracy  \\\n",
       "0  Logistic Regression  0.006368    0.002200       0.778852   \n",
       "1                   DT  0.001237    0.002000       0.683224   \n",
       "2                   RF  0.082752    0.014200       0.769071   \n",
       "3                 GBDT  0.051168    0.002200       0.765519   \n",
       "4              XGBoost  0.060000    0.005599       0.772186   \n",
       "5             AdaBoost  0.044570    0.011000       0.742459   \n",
       "6                  KNN  0.000200    0.005001       0.762568   \n",
       "7                  SVC  0.001801    0.003599       0.775683   \n",
       "\n",
       "   test_precision_macro  test_recall_macro  test_f1_macro  test_roc_auc  \n",
       "0              0.779359           0.776631       0.776390      0.882522  \n",
       "1              0.682273           0.679004       0.678981      0.679004  \n",
       "2              0.770251           0.767226       0.766973      0.852734  \n",
       "3              0.767636           0.760961       0.761306      0.839643  \n",
       "4              0.776667           0.769545       0.768755      0.822226  \n",
       "5              0.744710           0.738692       0.736954      0.796248  \n",
       "6              0.763770           0.763814       0.761660      0.807423  \n",
       "7              0.777530           0.777691       0.774883      0.852366  "
      ]
     },
     "execution_count": 23,
     "metadata": {},
     "output_type": "execute_result"
    }
   ],
   "source": [
    "result_eval"
   ]
  },
  {
   "cell_type": "markdown",
   "id": "479d7c67",
   "metadata": {},
   "source": [
    "From the baseline testing and the evaluation of the different classifier that we chose, one can see `Logistic Regression`, `Random Forest` and `SVC` perform best, followed by `GBDT`, `XGBoost`, `AdaBoost`, then `KNN` and finally `Decision Tree`.\n",
    "\n",
    "But before optimization of the hyperparameters...."
   ]
  },
  {
   "cell_type": "markdown",
   "id": "7644bf9c",
   "metadata": {},
   "source": [
    "### Support Vector Classification."
   ]
  },
  {
   "cell_type": "markdown",
   "id": "9bf1b983",
   "metadata": {},
   "source": [
    "SVC has various hyperparameters. The most important are `C` and the `kernel` (se report). I will use the following codes to find which compbination of hyperparameters `C` and `kernel` is the best. "
   ]
  },
  {
   "cell_type": "code",
   "execution_count": 24,
   "id": "9659849e",
   "metadata": {},
   "outputs": [],
   "source": [
    "from sklearn.model_selection import GridSearchCV"
   ]
  },
  {
   "cell_type": "code",
   "execution_count": 25,
   "id": "b030d147",
   "metadata": {},
   "outputs": [],
   "source": [
    "svc= SVC()\n",
    "parameters = {\n",
    "    \"kernel\": [\"linear\",\"rbf\"],\n",
    "    \"C\":[0.1,1,10]\n",
    "}"
   ]
  },
  {
   "cell_type": "code",
   "execution_count": 26,
   "id": "f8d138de",
   "metadata": {},
   "outputs": [
    {
     "data": {
      "text/plain": [
       "GridSearchCV(cv=5, estimator=SVC(),\n",
       "             param_grid={'C': [0.1, 1, 10], 'kernel': ['linear', 'rbf']})"
      ]
     },
     "execution_count": 26,
     "metadata": {},
     "output_type": "execute_result"
    }
   ],
   "source": [
    "cv = GridSearchCV(svc,parameters,cv=5)\n",
    "cv.fit(data_X,data_y) "
   ]
  },
  {
   "cell_type": "code",
   "execution_count": 27,
   "id": "fa017a9c",
   "metadata": {},
   "outputs": [],
   "source": [
    "def display(results):\n",
    "    print(f'Best parameters are: {results.best_params_}')\n",
    "    mean_score = results.cv_results_['mean_test_score']\n",
    "    std_score = results.cv_results_['std_test_score']\n",
    "    params = results.cv_results_['params']\n",
    "    for mean,std,params in zip(mean_score,std_score,params):\n",
    "        print(f'{round(mean,2)} + or -{round(std,2)} for the {params}')"
   ]
  },
  {
   "cell_type": "code",
   "execution_count": 28,
   "id": "4b82e979",
   "metadata": {},
   "outputs": [
    {
     "name": "stdout",
     "output_type": "stream",
     "text": [
      "Best parameters are: {'C': 1, 'kernel': 'linear'}\n",
      "0.77 + or -0.05 for the {'C': 0.1, 'kernel': 'linear'}\n",
      "0.78 + or -0.02 for the {'C': 0.1, 'kernel': 'rbf'}\n",
      "0.79 + or -0.07 for the {'C': 1, 'kernel': 'linear'}\n",
      "0.78 + or -0.05 for the {'C': 1, 'kernel': 'rbf'}\n",
      "0.77 + or -0.07 for the {'C': 10, 'kernel': 'linear'}\n",
      "0.75 + or -0.03 for the {'C': 10, 'kernel': 'rbf'}\n"
     ]
    }
   ],
   "source": [
    "display(cv)"
   ]
  },
  {
   "cell_type": "markdown",
   "id": "d270fcf9",
   "metadata": {},
   "source": [
    "From the previous analysis it seems that the cobmination of `C` and `kernel`that has the best performance is `C`= 0.1 and `kernel`= linear. I will try the second best combination `C`=0.1 and `kernel`= rbf in order to see the results of the evaluation. "
   ]
  },
  {
   "cell_type": "code",
   "execution_count": 29,
   "id": "b9eef4c0",
   "metadata": {},
   "outputs": [],
   "source": [
    "MODELS_TO_TEST = {\n",
    "    \"SVM_lin\": SVC(kernel='linear', C= 0.1),\n",
    "    \"SVM_rbf\": SVC(kernel='rbf', C=0.1),\n",
    "}\n",
    "\n",
    "# Define the number of splits \n",
    "NUMBER_OF_SPLITS = 5\n",
    "\n",
    "# Scoring metrics\n",
    "SCORING_METRICS = [\"accuracy\", \"precision_macro\", \"recall_macro\", \"f1_macro\"] # Metrics of interest\n",
    "\n",
    "# Create empty DataFrame to populate  the name of the classifier and the six values returned from `cross_validate()`\n",
    "results_evaluation = pd.DataFrame({\n",
    "                                    \"classifier_name\":[],\n",
    "                                    \"fit_time\": [],\n",
    "                                    \"score_time\": [],\n",
    "                                    \"test_accuracy\": [],\n",
    "                                    \"test_precision_macro\": [],\n",
    "                                    \"test_recall_macro\": [],\n",
    "                                    \"test_f1_macro\": [],\n",
    "                                    })"
   ]
  },
  {
   "cell_type": "code",
   "execution_count": 30,
   "id": "a5237f85",
   "metadata": {},
   "outputs": [
    {
     "name": "stdout",
     "output_type": "stream",
     "text": [
      "Currently training the classifier SVM_lin.\n",
      "Currently training the classifier SVM_rbf.\n",
      "The experimental setup has finished\n"
     ]
    }
   ],
   "source": [
    "#### ITERATION FOR THE EXPERIMENT\n",
    "\n",
    "for name, classifier in MODELS_TO_TEST.items():\n",
    "    \n",
    "    print(f\"Currently training the classifier {name}.\")\n",
    "\n",
    "    # Get the evaluation metrics per fold after cross-validation\n",
    "    # Note that we are passing the normalized array `X` to all classifiers\n",
    "    scores_cv = cross_validate(classifier, data_X, data_y, cv=NUMBER_OF_SPLITS, scoring=SCORING_METRICS)\n",
    "\n",
    "    # Average the scores among folds\n",
    "    dict_this_result = {\n",
    "                    \"classifier_name\":[name],\n",
    "                    }\n",
    "    # Populate the dictionary with the results of the cross-validation\n",
    "    for metric_name, score_per_fold in scores_cv.items():\n",
    "        dict_this_result[metric_name] = [ scores_cv[metric_name].mean() ]\n",
    "\n",
    "    #### Generate the results to populate the pandas.DataFrame\n",
    "    this_result = pd.DataFrame(dict_this_result)\n",
    "\n",
    "    # Append to the main dataframe with the results \n",
    "    results_evaluation = pd.concat([results_evaluation, this_result], ignore_index=True)\n",
    "\n",
    "print(\"The experimental setup has finished\")"
   ]
  },
  {
   "cell_type": "code",
   "execution_count": 31,
   "id": "8c49ade2",
   "metadata": {},
   "outputs": [
    {
     "data": {
      "text/html": [
       "<div>\n",
       "<style scoped>\n",
       "    .dataframe tbody tr th:only-of-type {\n",
       "        vertical-align: middle;\n",
       "    }\n",
       "\n",
       "    .dataframe tbody tr th {\n",
       "        vertical-align: top;\n",
       "    }\n",
       "\n",
       "    .dataframe thead th {\n",
       "        text-align: right;\n",
       "    }\n",
       "</style>\n",
       "<table border=\"1\" class=\"dataframe\">\n",
       "  <thead>\n",
       "    <tr style=\"text-align: right;\">\n",
       "      <th></th>\n",
       "      <th>classifier_name</th>\n",
       "      <th>fit_time</th>\n",
       "      <th>score_time</th>\n",
       "      <th>test_accuracy</th>\n",
       "      <th>test_precision_macro</th>\n",
       "      <th>test_recall_macro</th>\n",
       "      <th>test_f1_macro</th>\n",
       "    </tr>\n",
       "  </thead>\n",
       "  <tbody>\n",
       "    <tr>\n",
       "      <th>0</th>\n",
       "      <td>SVM_lin</td>\n",
       "      <td>0.001200</td>\n",
       "      <td>0.002000</td>\n",
       "      <td>0.768962</td>\n",
       "      <td>0.769507</td>\n",
       "      <td>0.766363</td>\n",
       "      <td>0.766251</td>\n",
       "    </tr>\n",
       "    <tr>\n",
       "      <th>1</th>\n",
       "      <td>SVM_rbf</td>\n",
       "      <td>0.001798</td>\n",
       "      <td>0.002401</td>\n",
       "      <td>0.775628</td>\n",
       "      <td>0.784223</td>\n",
       "      <td>0.767611</td>\n",
       "      <td>0.769147</td>\n",
       "    </tr>\n",
       "  </tbody>\n",
       "</table>\n",
       "</div>"
      ],
      "text/plain": [
       "  classifier_name  fit_time  score_time  test_accuracy  test_precision_macro  \\\n",
       "0         SVM_lin  0.001200    0.002000       0.768962              0.769507   \n",
       "1         SVM_rbf  0.001798    0.002401       0.775628              0.784223   \n",
       "\n",
       "   test_recall_macro  test_f1_macro  \n",
       "0           0.766363       0.766251  \n",
       "1           0.767611       0.769147  "
      ]
     },
     "execution_count": 31,
     "metadata": {},
     "output_type": "execute_result"
    }
   ],
   "source": [
    "results_evaluation"
   ]
  },
  {
   "cell_type": "markdown",
   "id": "cb987021",
   "metadata": {},
   "source": [
    "### Conclusion of SVM classification \n",
    "\n",
    "The results show what we expected that the linear SVC has the best results\n",
    "- **F1** : 0.805954\n",
    "- **Recall**: 0.805804\n",
    "- **Precision**: 0.810304\n",
    "- **Accuracy** : 0.808470\t"
   ]
  },
  {
   "cell_type": "markdown",
   "id": "e9dd023a",
   "metadata": {},
   "source": [
    "### KNN classification: Identifying the best parameters"
   ]
  },
  {
   "cell_type": "code",
   "execution_count": 32,
   "id": "9efae15d",
   "metadata": {},
   "outputs": [
    {
     "name": "stdout",
     "output_type": "stream",
     "text": [
      "Fitting 5 folds for each of 36 candidates, totalling 180 fits\n"
     ]
    },
    {
     "data": {
      "text/plain": [
       "0.7821857923497267"
      ]
     },
     "execution_count": 32,
     "metadata": {},
     "output_type": "execute_result"
    }
   ],
   "source": [
    "grid_params = { 'n_neighbors' : [5,7,9,11,13,15],\n",
    "               'weights' : ['uniform','distance'],\n",
    "               'metric' : ['minkowski','euclidean','manhattan']}\n",
    "gs = GridSearchCV(KNeighborsClassifier(), grid_params, verbose = 1, cv=5, n_jobs = -1)\n",
    "g_res = gs.fit(data_X, data_y)\n",
    "g_res.best_score_"
   ]
  },
  {
   "cell_type": "code",
   "execution_count": 33,
   "id": "3eda266e",
   "metadata": {},
   "outputs": [
    {
     "data": {
      "text/plain": [
       "{'metric': 'minkowski', 'n_neighbors': 11, 'weights': 'uniform'}"
      ]
     },
     "execution_count": 33,
     "metadata": {},
     "output_type": "execute_result"
    }
   ],
   "source": [
    "g_res.best_params_"
   ]
  },
  {
   "cell_type": "markdown",
   "id": "4be258c7",
   "metadata": {},
   "source": [
    "KNN results:\n",
    "* fit_time = 0.000000\n",
    "* score_time = 0.003124\t\n",
    "* Accuracy = 0.815082\t\n",
    "* Precision = 0.818510\n",
    "* Recall = 0.812946\t\n",
    "* F1 = 0.812618\n",
    "\n",
    "Hyperparameters: n_neighbors = 15, weights = 'uniform', algorithm = 'brute', metric = 'manhattan'"
   ]
  },
  {
   "cell_type": "markdown",
   "id": "364afddf",
   "metadata": {},
   "source": [
    "### Random forest"
   ]
  },
  {
   "cell_type": "code",
   "execution_count": 34,
   "id": "1821235c",
   "metadata": {},
   "outputs": [],
   "source": [
    "from sklearn.model_selection import RandomizedSearchCV"
   ]
  },
  {
   "cell_type": "code",
   "execution_count": 35,
   "id": "47e67565",
   "metadata": {},
   "outputs": [
    {
     "data": {
      "text/plain": [
       "'\\nnp.random.seed(42)\\n\\n# Randomized parameters grid \\nrf_rs_params = {\"n_estimators\" : np.arange(100, 1000, 50),\\n                \"max_depth\": [None, 10, 20, 30],\\n                \"max_features\": [\\'auto\\', \\'sqrt\\'],\\n                \"min_samples_split\": np.arange(2, 20, 2),\\n                \"min_samples_leaf\": np.arange(1, 20, 2)}\\n\\n# Instantiate RandomizedSearchCV\\nrs_rf = RandomizedSearchCV(RandomForestClassifier(),\\n                    param_distributions=rf_rs_params,\\n                    cv=5,\\n                    n_iter=20,\\n                    verbose=1)\\n\\n# Fit to data\\nrs_rf.fit(data_X, data_y)\\n'"
      ]
     },
     "execution_count": 35,
     "metadata": {},
     "output_type": "execute_result"
    }
   ],
   "source": [
    "# Check range of best parameters with randomized search CV\n",
    "# This code takes a while to run so I've commented it out\n",
    "\n",
    "\"\"\"\n",
    "np.random.seed(42)\n",
    "\n",
    "# Randomized parameters grid \n",
    "rf_rs_params = {\"n_estimators\" : np.arange(100, 1000, 50),\n",
    "                \"max_depth\": [None, 10, 20, 30],\n",
    "                \"max_features\": ['auto', 'sqrt'],\n",
    "                \"min_samples_split\": np.arange(2, 20, 2),\n",
    "                \"min_samples_leaf\": np.arange(1, 20, 2)}\n",
    "\n",
    "# Instantiate RandomizedSearchCV\n",
    "rs_rf = RandomizedSearchCV(RandomForestClassifier(),\n",
    "                    param_distributions=rf_rs_params,\n",
    "                    cv=5,\n",
    "                    n_iter=20,\n",
    "                    verbose=1)\n",
    "\n",
    "# Fit to data\n",
    "rs_rf.fit(data_X, data_y)\n",
    "\"\"\""
   ]
  },
  {
   "cell_type": "code",
   "execution_count": 36,
   "id": "2ac8920b",
   "metadata": {
    "scrolled": true
   },
   "outputs": [],
   "source": [
    "# Check best hyperparameters\n",
    "#rs_rf.best_params_"
   ]
  },
  {
   "cell_type": "code",
   "execution_count": 37,
   "id": "502eb004",
   "metadata": {},
   "outputs": [],
   "source": [
    "#rs_rf.best_score_"
   ]
  },
  {
   "cell_type": "code",
   "execution_count": 38,
   "id": "80205b60",
   "metadata": {},
   "outputs": [
    {
     "data": {
      "text/plain": [
       "'\\nnp.random.seed(42)\\n\\nrf_gs_params = {\"n_estimators\" : np.arange(800, 1000, 50),\\n                \"max_depth\": [20, 30, 40],\\n                \"max_features\": [\\'auto\\'],\\n                \"min_samples_split\": np.arange(14, 18, 2),\\n                \"min_samples_leaf\": np.arange(8, 10, 1)}\\n\\ngs_rf = GridSearchCV(RandomForestClassifier(),\\n                    param_grid=rf_gs_params,\\n                    cv=5, \\n                    verbose=1)\\n\\ngs_rf.fit(data_X, data_y)\\n'"
      ]
     },
     "execution_count": 38,
     "metadata": {},
     "output_type": "execute_result"
    }
   ],
   "source": [
    "# Use grid search to find best parameters within smaller range of hyperparameters \n",
    "# This code takes a while to run so I've commented it out\n",
    "\n",
    "\"\"\"\n",
    "np.random.seed(42)\n",
    "\n",
    "rf_gs_params = {\"n_estimators\" : np.arange(800, 1000, 50),\n",
    "                \"max_depth\": [20, 30, 40],\n",
    "                \"max_features\": ['auto'],\n",
    "                \"min_samples_split\": np.arange(14, 18, 2),\n",
    "                \"min_samples_leaf\": np.arange(8, 10, 1)}\n",
    "\n",
    "gs_rf = GridSearchCV(RandomForestClassifier(),\n",
    "                    param_grid=rf_gs_params,\n",
    "                    cv=5, \n",
    "                    verbose=1)\n",
    "\n",
    "gs_rf.fit(data_X, data_y)\n",
    "\"\"\""
   ]
  },
  {
   "cell_type": "code",
   "execution_count": 39,
   "id": "981f324c",
   "metadata": {
    "scrolled": true
   },
   "outputs": [],
   "source": [
    "#gs_rf.best_params_"
   ]
  },
  {
   "cell_type": "code",
   "execution_count": 40,
   "id": "774f8185",
   "metadata": {},
   "outputs": [],
   "source": [
    "#gs_rf.best_estimator_"
   ]
  },
  {
   "cell_type": "code",
   "execution_count": 41,
   "id": "a05055c2",
   "metadata": {},
   "outputs": [],
   "source": [
    "# Fitting the optimized model and printing the results\n",
    "models = {\"RF Optimized\": RandomForestClassifier(max_depth=40, min_samples_leaf=8, min_samples_split=14,\n",
    "                       n_estimators=950)}\n",
    "\n",
    "for name, classifier in models.items():\n",
    "    \n",
    "    np.random.seed(42)\n",
    "    \n",
    "    scores_cv = cross_validate(classifier, data_X, data_y, cv=5, scoring=metrics)\n",
    "\n",
    "    dict_this_result = {\"classifier_name\":[name],}\n",
    "    \n",
    "    for metric_name, score_per_fold in scores_cv.items():\n",
    "        dict_this_result[metric_name] = [scores_cv[metric_name].mean()]\n",
    "\n",
    "    this_result = pd.DataFrame(dict_this_result)"
   ]
  },
  {
   "cell_type": "code",
   "execution_count": 42,
   "id": "6be32f50",
   "metadata": {},
   "outputs": [
    {
     "data": {
      "text/html": [
       "<div>\n",
       "<style scoped>\n",
       "    .dataframe tbody tr th:only-of-type {\n",
       "        vertical-align: middle;\n",
       "    }\n",
       "\n",
       "    .dataframe tbody tr th {\n",
       "        vertical-align: top;\n",
       "    }\n",
       "\n",
       "    .dataframe thead th {\n",
       "        text-align: right;\n",
       "    }\n",
       "</style>\n",
       "<table border=\"1\" class=\"dataframe\">\n",
       "  <thead>\n",
       "    <tr style=\"text-align: right;\">\n",
       "      <th></th>\n",
       "      <th>classifier_name</th>\n",
       "      <th>fit_time</th>\n",
       "      <th>score_time</th>\n",
       "      <th>test_accuracy</th>\n",
       "      <th>test_precision_macro</th>\n",
       "      <th>test_recall_macro</th>\n",
       "      <th>test_f1_macro</th>\n",
       "      <th>test_roc_auc</th>\n",
       "    </tr>\n",
       "  </thead>\n",
       "  <tbody>\n",
       "    <tr>\n",
       "      <th>0</th>\n",
       "      <td>RF Optimized</td>\n",
       "      <td>0.741309</td>\n",
       "      <td>0.115488</td>\n",
       "      <td>0.759016</td>\n",
       "      <td>0.759937</td>\n",
       "      <td>0.756863</td>\n",
       "      <td>0.756615</td>\n",
       "      <td>0.879868</td>\n",
       "    </tr>\n",
       "  </tbody>\n",
       "</table>\n",
       "</div>"
      ],
      "text/plain": [
       "  classifier_name  fit_time  score_time  test_accuracy  test_precision_macro  \\\n",
       "0    RF Optimized  0.741309    0.115488       0.759016              0.759937   \n",
       "\n",
       "   test_recall_macro  test_f1_macro  test_roc_auc  \n",
       "0           0.756863       0.756615      0.879868  "
      ]
     },
     "execution_count": 42,
     "metadata": {},
     "output_type": "execute_result"
    }
   ],
   "source": [
    "this_result"
   ]
  },
  {
   "cell_type": "markdown",
   "id": "53a53742",
   "metadata": {},
   "source": [
    "### Logistic Regression "
   ]
  },
  {
   "cell_type": "code",
   "execution_count": 43,
   "id": "2fa5e3d3",
   "metadata": {},
   "outputs": [
    {
     "name": "stdout",
     "output_type": "stream",
     "text": [
      "Fitting 5 folds for each of 20 candidates, totalling 100 fits\n"
     ]
    },
    {
     "data": {
      "text/plain": [
       "RandomizedSearchCV(cv=5, estimator=LogisticRegression(), n_iter=20,\n",
       "                   param_distributions={'C': array([1.00000000e-04, 2.63665090e-04, 6.95192796e-04, 1.83298071e-03,\n",
       "       4.83293024e-03, 1.27427499e-02, 3.35981829e-02, 8.85866790e-02,\n",
       "       2.33572147e-01, 6.15848211e-01, 1.62377674e+00, 4.28133240e+00,\n",
       "       1.12883789e+01, 2.97635144e+01, 7.84759970e+01, 2.06913808e+02,\n",
       "       5.45559478e+02, 1.43844989e+03, 3.79269019e+03, 1.00000000e+04]),\n",
       "                                        'solver': ['liblinear']},\n",
       "                   random_state=42, verbose=True)"
      ]
     },
     "execution_count": 43,
     "metadata": {},
     "output_type": "execute_result"
    }
   ],
   "source": [
    "log_reg_grid = {\"C\": np.logspace(-4, 4, 20),\n",
    "                \"solver\": [\"liblinear\"]}\n",
    "\n",
    "rs_log_reg = RandomizedSearchCV(LogisticRegression(), \n",
    "                                param_distributions=log_reg_grid,\n",
    "                               cv=5,\n",
    "                               n_iter=20,\n",
    "                               verbose=True, \n",
    "                               random_state=42)\n",
    "\n",
    "rs_log_reg.fit(data_X, data_y)"
   ]
  },
  {
   "cell_type": "code",
   "execution_count": 44,
   "id": "922dcba3",
   "metadata": {},
   "outputs": [
    {
     "data": {
      "text/plain": [
       "{'solver': 'liblinear', 'C': 11.288378916846883}"
      ]
     },
     "execution_count": 44,
     "metadata": {},
     "output_type": "execute_result"
    }
   ],
   "source": [
    "rs_log_reg.best_params_"
   ]
  },
  {
   "cell_type": "code",
   "execution_count": 45,
   "id": "e364a9e4",
   "metadata": {},
   "outputs": [
    {
     "data": {
      "text/plain": [
       "LogisticRegression(C=11.288378916846883, solver='liblinear')"
      ]
     },
     "execution_count": 45,
     "metadata": {},
     "output_type": "execute_result"
    }
   ],
   "source": [
    "rs_log_reg.best_estimator_"
   ]
  },
  {
   "cell_type": "code",
   "execution_count": 46,
   "id": "36c56018",
   "metadata": {},
   "outputs": [],
   "source": [
    "models = {\"Logistic Regression Optimized\": LogisticRegression(C=1.623776739188721, solver='liblinear')}\n",
    "\n",
    "for name, classifier in models.items():\n",
    "    \n",
    "    scores_cv = cross_validate(classifier, data_X, data_y, cv=5, scoring=metrics)\n",
    "\n",
    "    dict_this_result = {\"classifier_name\":[name],}\n",
    "    \n",
    "    for metric_name, score_per_fold in scores_cv.items():\n",
    "        dict_this_result[metric_name] = [scores_cv[metric_name].mean()]\n",
    "\n",
    "    this_result = pd.DataFrame(dict_this_result)"
   ]
  },
  {
   "cell_type": "code",
   "execution_count": 47,
   "id": "ce864091",
   "metadata": {},
   "outputs": [
    {
     "data": {
      "text/html": [
       "<div>\n",
       "<style scoped>\n",
       "    .dataframe tbody tr th:only-of-type {\n",
       "        vertical-align: middle;\n",
       "    }\n",
       "\n",
       "    .dataframe tbody tr th {\n",
       "        vertical-align: top;\n",
       "    }\n",
       "\n",
       "    .dataframe thead th {\n",
       "        text-align: right;\n",
       "    }\n",
       "</style>\n",
       "<table border=\"1\" class=\"dataframe\">\n",
       "  <thead>\n",
       "    <tr style=\"text-align: right;\">\n",
       "      <th></th>\n",
       "      <th>classifier_name</th>\n",
       "      <th>fit_time</th>\n",
       "      <th>score_time</th>\n",
       "      <th>test_accuracy</th>\n",
       "      <th>test_precision_macro</th>\n",
       "      <th>test_recall_macro</th>\n",
       "      <th>test_f1_macro</th>\n",
       "      <th>test_roc_auc</th>\n",
       "    </tr>\n",
       "  </thead>\n",
       "  <tbody>\n",
       "    <tr>\n",
       "      <th>0</th>\n",
       "      <td>Logistic Regression Optimized</td>\n",
       "      <td>0.0008</td>\n",
       "      <td>0.002</td>\n",
       "      <td>0.778852</td>\n",
       "      <td>0.780082</td>\n",
       "      <td>0.776631</td>\n",
       "      <td>0.776334</td>\n",
       "      <td>0.882535</td>\n",
       "    </tr>\n",
       "  </tbody>\n",
       "</table>\n",
       "</div>"
      ],
      "text/plain": [
       "                 classifier_name  fit_time  score_time  test_accuracy  \\\n",
       "0  Logistic Regression Optimized    0.0008       0.002       0.778852   \n",
       "\n",
       "   test_precision_macro  test_recall_macro  test_f1_macro  test_roc_auc  \n",
       "0              0.780082           0.776631       0.776334      0.882535  "
      ]
     },
     "execution_count": 47,
     "metadata": {},
     "output_type": "execute_result"
    }
   ],
   "source": [
    "this_result"
   ]
  },
  {
   "cell_type": "markdown",
   "id": "0e43bed5-1d77-48f4-b270-3d82266f74a7",
   "metadata": {},
   "source": [
    "## Multi-layer Perceptron"
   ]
  },
  {
   "cell_type": "code",
   "execution_count": 48,
   "id": "0c526089-47ab-49f6-95a9-82c0b24388da",
   "metadata": {},
   "outputs": [],
   "source": [
    "from sklearn.neural_network import MLPClassifier"
   ]
  },
  {
   "cell_type": "code",
   "execution_count": 49,
   "id": "32213da5-564f-49b6-a6fe-612c0975c692",
   "metadata": {},
   "outputs": [
    {
     "data": {
      "text/html": [
       "<div>\n",
       "<style scoped>\n",
       "    .dataframe tbody tr th:only-of-type {\n",
       "        vertical-align: middle;\n",
       "    }\n",
       "\n",
       "    .dataframe tbody tr th {\n",
       "        vertical-align: top;\n",
       "    }\n",
       "\n",
       "    .dataframe thead th {\n",
       "        text-align: right;\n",
       "    }\n",
       "</style>\n",
       "<table border=\"1\" class=\"dataframe\">\n",
       "  <thead>\n",
       "    <tr style=\"text-align: right;\">\n",
       "      <th></th>\n",
       "      <th>fit_time</th>\n",
       "      <th>score_time</th>\n",
       "      <th>test_accuracy</th>\n",
       "      <th>test_precision_macro</th>\n",
       "      <th>test_recall_macro</th>\n",
       "      <th>test_f1_macro</th>\n",
       "      <th>test_roc_auc</th>\n",
       "    </tr>\n",
       "  </thead>\n",
       "  <tbody>\n",
       "    <tr>\n",
       "      <th>0</th>\n",
       "      <td>17.158486</td>\n",
       "      <td>0.011001</td>\n",
       "      <td>0.770492</td>\n",
       "      <td>0.768939</td>\n",
       "      <td>0.768939</td>\n",
       "      <td>0.768939</td>\n",
       "      <td>0.858225</td>\n",
       "    </tr>\n",
       "    <tr>\n",
       "      <th>1</th>\n",
       "      <td>14.062654</td>\n",
       "      <td>0.011001</td>\n",
       "      <td>0.704918</td>\n",
       "      <td>0.702922</td>\n",
       "      <td>0.702922</td>\n",
       "      <td>0.702922</td>\n",
       "      <td>0.818182</td>\n",
       "    </tr>\n",
       "    <tr>\n",
       "      <th>2</th>\n",
       "      <td>14.230989</td>\n",
       "      <td>0.011000</td>\n",
       "      <td>0.770492</td>\n",
       "      <td>0.769892</td>\n",
       "      <td>0.771645</td>\n",
       "      <td>0.769935</td>\n",
       "      <td>0.809524</td>\n",
       "    </tr>\n",
       "    <tr>\n",
       "      <th>3</th>\n",
       "      <td>17.377503</td>\n",
       "      <td>0.011000</td>\n",
       "      <td>0.800000</td>\n",
       "      <td>0.802002</td>\n",
       "      <td>0.804714</td>\n",
       "      <td>0.799778</td>\n",
       "      <td>0.887767</td>\n",
       "    </tr>\n",
       "    <tr>\n",
       "      <th>4</th>\n",
       "      <td>15.582415</td>\n",
       "      <td>0.011003</td>\n",
       "      <td>0.716667</td>\n",
       "      <td>0.715795</td>\n",
       "      <td>0.716518</td>\n",
       "      <td>0.715957</td>\n",
       "      <td>0.789062</td>\n",
       "    </tr>\n",
       "  </tbody>\n",
       "</table>\n",
       "</div>"
      ],
      "text/plain": [
       "    fit_time  score_time  test_accuracy  test_precision_macro  \\\n",
       "0  17.158486    0.011001       0.770492              0.768939   \n",
       "1  14.062654    0.011001       0.704918              0.702922   \n",
       "2  14.230989    0.011000       0.770492              0.769892   \n",
       "3  17.377503    0.011000       0.800000              0.802002   \n",
       "4  15.582415    0.011003       0.716667              0.715795   \n",
       "\n",
       "   test_recall_macro  test_f1_macro  test_roc_auc  \n",
       "0           0.768939       0.768939      0.858225  \n",
       "1           0.702922       0.702922      0.818182  \n",
       "2           0.771645       0.769935      0.809524  \n",
       "3           0.804714       0.799778      0.887767  \n",
       "4           0.716518       0.715957      0.789062  "
      ]
     },
     "execution_count": 49,
     "metadata": {},
     "output_type": "execute_result"
    }
   ],
   "source": [
    "mlp_clf = MLPClassifier(hidden_layer_sizes=(1000, 1000, 1000), max_iter=2500)\n",
    "\n",
    "mlp_results = cross_validate(mlp_clf, data_X, data_y, cv=5, scoring=metrics)"
   ]
  },
  {
   "cell_type": "code",
   "execution_count": 57,
   "id": "fc245c7d-4cfe-4137-81ec-830efb0bdb59",
   "metadata": {},
   "outputs": [
    {
     "data": {
      "text/html": [
       "<div>\n",
       "<style scoped>\n",
       "    .dataframe tbody tr th:only-of-type {\n",
       "        vertical-align: middle;\n",
       "    }\n",
       "\n",
       "    .dataframe tbody tr th {\n",
       "        vertical-align: top;\n",
       "    }\n",
       "\n",
       "    .dataframe thead th {\n",
       "        text-align: right;\n",
       "    }\n",
       "</style>\n",
       "<table border=\"1\" class=\"dataframe\">\n",
       "  <thead>\n",
       "    <tr style=\"text-align: right;\">\n",
       "      <th></th>\n",
       "      <th>fit_time</th>\n",
       "      <th>score_time</th>\n",
       "      <th>test_accuracy</th>\n",
       "      <th>test_precision_macro</th>\n",
       "      <th>test_recall_macro</th>\n",
       "      <th>test_f1_macro</th>\n",
       "      <th>test_roc_auc</th>\n",
       "    </tr>\n",
       "  </thead>\n",
       "  <tbody>\n",
       "    <tr>\n",
       "      <th>0</th>\n",
       "      <td>17.158486</td>\n",
       "      <td>0.011001</td>\n",
       "      <td>0.770492</td>\n",
       "      <td>0.768939</td>\n",
       "      <td>0.768939</td>\n",
       "      <td>0.768939</td>\n",
       "      <td>0.858225</td>\n",
       "    </tr>\n",
       "    <tr>\n",
       "      <th>1</th>\n",
       "      <td>14.062654</td>\n",
       "      <td>0.011001</td>\n",
       "      <td>0.704918</td>\n",
       "      <td>0.702922</td>\n",
       "      <td>0.702922</td>\n",
       "      <td>0.702922</td>\n",
       "      <td>0.818182</td>\n",
       "    </tr>\n",
       "    <tr>\n",
       "      <th>2</th>\n",
       "      <td>14.230989</td>\n",
       "      <td>0.011000</td>\n",
       "      <td>0.770492</td>\n",
       "      <td>0.769892</td>\n",
       "      <td>0.771645</td>\n",
       "      <td>0.769935</td>\n",
       "      <td>0.809524</td>\n",
       "    </tr>\n",
       "    <tr>\n",
       "      <th>3</th>\n",
       "      <td>17.377503</td>\n",
       "      <td>0.011000</td>\n",
       "      <td>0.800000</td>\n",
       "      <td>0.802002</td>\n",
       "      <td>0.804714</td>\n",
       "      <td>0.799778</td>\n",
       "      <td>0.887767</td>\n",
       "    </tr>\n",
       "    <tr>\n",
       "      <th>4</th>\n",
       "      <td>15.582415</td>\n",
       "      <td>0.011003</td>\n",
       "      <td>0.716667</td>\n",
       "      <td>0.715795</td>\n",
       "      <td>0.716518</td>\n",
       "      <td>0.715957</td>\n",
       "      <td>0.789062</td>\n",
       "    </tr>\n",
       "  </tbody>\n",
       "</table>\n",
       "</div>"
      ],
      "text/plain": [
       "    fit_time  score_time  test_accuracy  test_precision_macro  \\\n",
       "0  17.158486    0.011001       0.770492              0.768939   \n",
       "1  14.062654    0.011001       0.704918              0.702922   \n",
       "2  14.230989    0.011000       0.770492              0.769892   \n",
       "3  17.377503    0.011000       0.800000              0.802002   \n",
       "4  15.582415    0.011003       0.716667              0.715795   \n",
       "\n",
       "   test_recall_macro  test_f1_macro  test_roc_auc  \n",
       "0           0.768939       0.768939      0.858225  \n",
       "1           0.702922       0.702922      0.818182  \n",
       "2           0.771645       0.769935      0.809524  \n",
       "3           0.804714       0.799778      0.887767  \n",
       "4           0.716518       0.715957      0.789062  "
      ]
     },
     "execution_count": 57,
     "metadata": {},
     "output_type": "execute_result"
    }
   ],
   "source": [
    "display_mlp_results = pd.DataFrame(mlp_results)\n",
    "    \n",
    "display_mlp_results"
   ]
  },
  {
   "cell_type": "code",
   "execution_count": null,
   "id": "2e57ca87-d7e1-4174-a05d-fb8a850cdeb7",
   "metadata": {},
   "outputs": [],
   "source": []
  }
 ],
 "metadata": {
  "kernelspec": {
   "display_name": "Python 3 (ipykernel)",
   "language": "python",
   "name": "python3"
  },
  "language_info": {
   "codemirror_mode": {
    "name": "ipython",
    "version": 3
   },
   "file_extension": ".py",
   "mimetype": "text/x-python",
   "name": "python",
   "nbconvert_exporter": "python",
   "pygments_lexer": "ipython3",
   "version": "3.10.0"
  },
  "vscode": {
   "interpreter": {
    "hash": "e973fc2e000e46a03caede90db88e0085b59ce3854a1387ca28cfb55b1d1397a"
   }
  }
 },
 "nbformat": 4,
 "nbformat_minor": 5
}
