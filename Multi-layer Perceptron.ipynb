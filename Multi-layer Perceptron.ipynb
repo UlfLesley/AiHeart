{
 "cells": [
  {
   "cell_type": "code",
   "execution_count": 1,
   "id": "8606b6d4-1074-48f8-b2d3-07f0711f1dad",
   "metadata": {},
   "outputs": [],
   "source": [
    "import pandas as pd\n",
    "\n",
    "from sklearn.neural_network import MLPClassifier\n",
    "\n",
    "from sklearn.preprocessing import OneHotEncoder\n",
    "from sklearn.preprocessing import MaxAbsScaler\n",
    "from sklearn.impute import KNNImputer\n",
    "\n",
    "from sklearn.pipeline import Pipeline\n",
    "from sklearn.model_selection import cross_validate\n",
    "from sklearn.compose import ColumnTransformer\n",
    "\n",
    "from sklearn.model_selection import train_test_split\n",
    "from sklearn.model_selection import GridSearchCV\n",
    "from sklearn.metrics import accuracy_score, precision_score, recall_score, f1_score\n",
    "from sklearn.metrics import RocCurveDisplay\n",
    "\n",
    "import os\n",
    "import sys\n",
    "from contextlib import contextmanager"
   ]
  },
  {
   "cell_type": "code",
   "execution_count": 2,
   "id": "5fad3298-5fd4-4dd1-b65e-e4872958082e",
   "metadata": {},
   "outputs": [],
   "source": [
    "script_path = os.getcwd()\n",
    "src_path = r\"./Data/Cleaned data\"\n",
    "\n",
    "categorical_features = [\"sex\", \"restecg\", \"slope\", \"cp\"]\n",
    "integer_features = [\"age\", \"trestbps\", \"chol\", \"thalach\"]\n",
    "float_features = [\"oldpeak\"]\n",
    "boolean_features = [\"fbs\", \"exang\"]\n",
    "\n",
    "scores = [\"accuracy\", \"precision\", \"recall\", \"f1\"]\n",
    "\n",
    "seed = 1234"
   ]
  },
  {
   "cell_type": "code",
   "execution_count": 3,
   "id": "3e3a8326-000c-4d25-8f18-1da6e45e056c",
   "metadata": {},
   "outputs": [],
   "source": [
    "def set_dtypes(df):\n",
    "    for column in df.columns:\n",
    "        if column in categorical_features:\n",
    "            df[column] = df[column].astype(\"category\", copy=False)\n",
    "        elif column in boolean_features:\n",
    "            df[column] = df[column].astype(\"Int64\", copy=False)\n",
    "        elif column in float_features:\n",
    "            df[column] = pd.to_numeric(df[column], downcast=\"float\", errors=\"coerce\")\n",
    "        elif column in integer_features:\n",
    "            df[column] = pd.to_numeric(df[column], downcast=\"float\", errors=\"coerce\")\n",
    "            df[column] = df[column].astype(\"Int64\", copy=False)\n",
    "    return df"
   ]
  },
  {
   "cell_type": "code",
   "execution_count": 4,
   "id": "8e40762f-1ae8-4e99-9c9d-5e6fc547c0da",
   "metadata": {},
   "outputs": [
    {
     "data": {
      "text/html": [
       "<div>\n",
       "<style scoped>\n",
       "    .dataframe tbody tr th:only-of-type {\n",
       "        vertical-align: middle;\n",
       "    }\n",
       "\n",
       "    .dataframe tbody tr th {\n",
       "        vertical-align: top;\n",
       "    }\n",
       "\n",
       "    .dataframe thead th {\n",
       "        text-align: right;\n",
       "    }\n",
       "</style>\n",
       "<table border=\"1\" class=\"dataframe\">\n",
       "  <thead>\n",
       "    <tr style=\"text-align: right;\">\n",
       "      <th></th>\n",
       "      <th>age</th>\n",
       "      <th>sex</th>\n",
       "      <th>cp</th>\n",
       "      <th>trestbps</th>\n",
       "      <th>chol</th>\n",
       "      <th>fbs</th>\n",
       "      <th>restecg</th>\n",
       "      <th>thalach</th>\n",
       "      <th>exang</th>\n",
       "      <th>oldpeak</th>\n",
       "      <th>slope</th>\n",
       "    </tr>\n",
       "  </thead>\n",
       "  <tbody>\n",
       "    <tr>\n",
       "      <th>0</th>\n",
       "      <td>63</td>\n",
       "      <td>1.0</td>\n",
       "      <td>1.0</td>\n",
       "      <td>145</td>\n",
       "      <td>233</td>\n",
       "      <td>1</td>\n",
       "      <td>2.0</td>\n",
       "      <td>150</td>\n",
       "      <td>0</td>\n",
       "      <td>2.3</td>\n",
       "      <td>3.0</td>\n",
       "    </tr>\n",
       "    <tr>\n",
       "      <th>1</th>\n",
       "      <td>67</td>\n",
       "      <td>1.0</td>\n",
       "      <td>4.0</td>\n",
       "      <td>160</td>\n",
       "      <td>286</td>\n",
       "      <td>0</td>\n",
       "      <td>2.0</td>\n",
       "      <td>108</td>\n",
       "      <td>1</td>\n",
       "      <td>1.5</td>\n",
       "      <td>2.0</td>\n",
       "    </tr>\n",
       "    <tr>\n",
       "      <th>2</th>\n",
       "      <td>67</td>\n",
       "      <td>1.0</td>\n",
       "      <td>4.0</td>\n",
       "      <td>120</td>\n",
       "      <td>229</td>\n",
       "      <td>0</td>\n",
       "      <td>2.0</td>\n",
       "      <td>129</td>\n",
       "      <td>1</td>\n",
       "      <td>2.6</td>\n",
       "      <td>2.0</td>\n",
       "    </tr>\n",
       "    <tr>\n",
       "      <th>3</th>\n",
       "      <td>37</td>\n",
       "      <td>1.0</td>\n",
       "      <td>3.0</td>\n",
       "      <td>130</td>\n",
       "      <td>250</td>\n",
       "      <td>0</td>\n",
       "      <td>0.0</td>\n",
       "      <td>187</td>\n",
       "      <td>0</td>\n",
       "      <td>3.5</td>\n",
       "      <td>3.0</td>\n",
       "    </tr>\n",
       "    <tr>\n",
       "      <th>4</th>\n",
       "      <td>41</td>\n",
       "      <td>0.0</td>\n",
       "      <td>2.0</td>\n",
       "      <td>130</td>\n",
       "      <td>204</td>\n",
       "      <td>0</td>\n",
       "      <td>2.0</td>\n",
       "      <td>172</td>\n",
       "      <td>0</td>\n",
       "      <td>1.4</td>\n",
       "      <td>1.0</td>\n",
       "    </tr>\n",
       "  </tbody>\n",
       "</table>\n",
       "</div>"
      ],
      "text/plain": [
       "   age  sex   cp  trestbps  chol  fbs  restecg  thalach  exang  oldpeak  slope\n",
       "0   63  1.0  1.0       145   233    1      2.0      150      0      2.3    3.0\n",
       "1   67  1.0  4.0       160   286    0      2.0      108      1      1.5    2.0\n",
       "2   67  1.0  4.0       120   229    0      2.0      129      1      2.6    2.0\n",
       "3   37  1.0  3.0       130   250    0      0.0      187      0      3.5    3.0\n",
       "4   41  0.0  2.0       130   204    0      2.0      172      0      1.4    1.0"
      ]
     },
     "execution_count": 4,
     "metadata": {},
     "output_type": "execute_result"
    }
   ],
   "source": [
    "@contextmanager\n",
    "def gen_list(file_path):\n",
    "    f = os.chdir(file_path)\n",
    "    yield f\n",
    "    os.chdir(script_path)\n",
    "    \n",
    "with gen_list(src_path) as f:\n",
    "    df = pd.read_csv(r\"cleaned_processed_cleveland.csv\")\n",
    "    df1 = pd.read_csv(r\"cleaned_processed_hungarian.csv\")\n",
    "    df2 = pd.read_csv(r\"cleaned_processed_switzerland.csv\")\n",
    "    df3 = pd.read_csv(r\"cleaned_processed_va.csv\")\n",
    "\n",
    "df_y = df[\"num\"]\n",
    "\n",
    "df_y.replace([2, 3, 4], 1, inplace=True)\n",
    "\n",
    "df.drop(\"num\", axis=1, inplace=True)\n",
    "df.drop(\"thal\", axis=1, inplace=True)\n",
    "df.drop(\"ca\", axis=1, inplace=True)\n",
    "\n",
    "df.head()"
   ]
  },
  {
   "cell_type": "code",
   "execution_count": 5,
   "id": "def84cd7-ed74-427c-9c23-576b69c2e270",
   "metadata": {},
   "outputs": [],
   "source": [
    "eval_df = pd.concat([df1, df2, df3], axis=0, ignore_index=True)\n",
    "\n",
    "eval_y = eval_df[\"num\"]\n",
    "eval_y.replace([2, 3, 4], 1, inplace=True)\n",
    "\n",
    "eval_df.drop(\"num\", axis=1, inplace=True)\n",
    "eval_df.drop(\"thal\", axis=1, inplace=True)\n",
    "eval_df.drop(\"ca\", axis=1, inplace=True)"
   ]
  },
  {
   "cell_type": "code",
   "execution_count": 6,
   "id": "9f2660db-eb61-4598-9c02-f6bc48cc6a05",
   "metadata": {},
   "outputs": [
    {
     "data": {
      "text/plain": [
       "(617, 11)"
      ]
     },
     "execution_count": 6,
     "metadata": {},
     "output_type": "execute_result"
    }
   ],
   "source": [
    "eval_df.shape"
   ]
  },
  {
   "cell_type": "code",
   "execution_count": 7,
   "id": "c35f30f4-a4a9-42c1-9f58-35c71321eb52",
   "metadata": {},
   "outputs": [
    {
     "data": {
      "text/plain": [
       "(617, 11)"
      ]
     },
     "execution_count": 7,
     "metadata": {},
     "output_type": "execute_result"
    }
   ],
   "source": [
    "eval_df.shape"
   ]
  },
  {
   "cell_type": "code",
   "execution_count": 8,
   "id": "27b9df6d-bb46-4526-b337-c3260f3c414d",
   "metadata": {},
   "outputs": [
    {
     "data": {
      "text/plain": [
       "0    0\n",
       "1    1\n",
       "2    1\n",
       "3    0\n",
       "4    0\n",
       "Name: num, dtype: int64"
      ]
     },
     "execution_count": 8,
     "metadata": {},
     "output_type": "execute_result"
    }
   ],
   "source": [
    "df_y.head()"
   ]
  },
  {
   "cell_type": "code",
   "execution_count": 9,
   "id": "3c8b9b7c-c6af-4fb3-8ff3-3c59ddc21984",
   "metadata": {},
   "outputs": [
    {
     "data": {
      "text/plain": [
       "age           int64\n",
       "sex         float64\n",
       "cp          float64\n",
       "trestbps      int64\n",
       "chol          int64\n",
       "fbs           int64\n",
       "restecg     float64\n",
       "thalach       int64\n",
       "exang         int64\n",
       "oldpeak     float64\n",
       "slope       float64\n",
       "dtype: object"
      ]
     },
     "execution_count": 9,
     "metadata": {},
     "output_type": "execute_result"
    }
   ],
   "source": [
    "df.dtypes"
   ]
  },
  {
   "cell_type": "code",
   "execution_count": 10,
   "id": "a4131d0a-effe-4e10-bff8-8c35a4502605",
   "metadata": {},
   "outputs": [
    {
     "data": {
      "text/plain": [
       "age            Int64\n",
       "sex         category\n",
       "cp          category\n",
       "trestbps       Int64\n",
       "chol           Int64\n",
       "fbs            Int64\n",
       "restecg     category\n",
       "thalach        Int64\n",
       "exang          Int64\n",
       "oldpeak      float32\n",
       "slope       category\n",
       "dtype: object"
      ]
     },
     "execution_count": 10,
     "metadata": {},
     "output_type": "execute_result"
    }
   ],
   "source": [
    "df = set_dtypes(df)\n",
    "\n",
    "df.dtypes"
   ]
  },
  {
   "cell_type": "code",
   "execution_count": 11,
   "id": "9955a88d-a343-4631-b996-390816ff4c9f",
   "metadata": {},
   "outputs": [],
   "source": [
    "cat_pipe = Pipeline([(\"encoding\", OneHotEncoder(handle_unknown=\"ignore\", sparse=False)),\n",
    "                    (\"impute\", KNNImputer())])\n",
    "\n",
    "num_pipe = Pipeline([(\"scaling\", MaxAbsScaler()),\n",
    "                    (\"imputing\", KNNImputer())])\n",
    "\n",
    "preprocessor = ColumnTransformer([(\"categorical features\", cat_pipe, categorical_features),\n",
    "                                 (\"numerical features\", num_pipe, integer_features+float_features+boolean_features)])\n",
    "\n",
    "mlp_pipe = Pipeline([(\"preprocessing\", preprocessor),\n",
    "                    (\"clf\", MLPClassifier())])"
   ]
  },
  {
   "cell_type": "code",
   "execution_count": 12,
   "id": "c5d29ea3-09bb-4be8-8d59-c4a566c1bd5d",
   "metadata": {},
   "outputs": [],
   "source": [
    "train_x, test_x, train_y, test_y = train_test_split(df, df_y, test_size=0.1, random_state=seed, stratify=df_y)"
   ]
  },
  {
   "cell_type": "code",
   "execution_count": 13,
   "id": "364a627f-04d1-455f-a6dc-77c4f61594bb",
   "metadata": {},
   "outputs": [],
   "source": [
    "grid_param = {\n",
    "    \"clf__hidden_layer_sizes\": [(100),\n",
    "                                (500),\n",
    "                                (1000),\n",
    "                                (100, 100),\n",
    "                                (500, 500),\n",
    "                                (1000, 1000),\n",
    "                                (100, 100, 100),\n",
    "                                (500, 500, 500),\n",
    "                                (1000, 1000, 1000),\n",
    "                                (100, 100, 100, 100),\n",
    "                                (500, 500, 500, 500),\n",
    "                                (1000, 1000, 1000, 1000)],\n",
    "    \"clf__max_iter\": [2000, 2500, 3000]\n",
    "}"
   ]
  },
  {
   "cell_type": "code",
   "execution_count": 14,
   "id": "cd7415c0-f096-480f-af7f-5cb8a0248970",
   "metadata": {},
   "outputs": [
    {
     "data": {
      "text/plain": [
       "GridSearchCV(cv=5,\n",
       "             estimator=Pipeline(steps=[('preprocessing',\n",
       "                                        ColumnTransformer(transformers=[('categorical '\n",
       "                                                                         'features',\n",
       "                                                                         Pipeline(steps=[('encoding',\n",
       "                                                                                          OneHotEncoder(handle_unknown='ignore',\n",
       "                                                                                                        sparse=False)),\n",
       "                                                                                         ('impute',\n",
       "                                                                                          KNNImputer())]),\n",
       "                                                                         ['sex',\n",
       "                                                                          'restecg',\n",
       "                                                                          'slope',\n",
       "                                                                          'cp']),\n",
       "                                                                        ('numerical '\n",
       "                                                                         'features',\n",
       "                                                                         Pipeline(steps=[('scaling',\n",
       "                                                                                          MaxAbsScaler()),\n",
       "                                                                                         ('imputing',\n",
       "                                                                                          KNNImputer())]),\n",
       "                                                                         ['age',\n",
       "                                                                          'trestbps',\n",
       "                                                                          'chol',\n",
       "                                                                          'thalach',\n",
       "                                                                          'oldpeak',\n",
       "                                                                          'fbs',\n",
       "                                                                          'exang'])])),\n",
       "                                       ('clf', MLPClassifier())]),\n",
       "             n_jobs=-1,\n",
       "             param_grid={'clf__hidden_layer_sizes': [100, 500, 1000, (100, 100),\n",
       "                                                     (500, 500), (1000, 1000),\n",
       "                                                     (100, 100, 100),\n",
       "                                                     (500, 500, 500),\n",
       "                                                     (1000, 1000, 1000),\n",
       "                                                     (100, 100, 100, 100),\n",
       "                                                     (500, 500, 500, 500),\n",
       "                                                     (1000, 1000, 1000, 1000)],\n",
       "                         'clf__max_iter': [2000, 2500, 3000]},\n",
       "             scoring='accuracy')"
      ]
     },
     "execution_count": 14,
     "metadata": {},
     "output_type": "execute_result"
    }
   ],
   "source": [
    "mlp_clf = GridSearchCV(mlp_pipe, grid_param, cv=5, scoring=\"accuracy\", n_jobs=-1, refit=True)\n",
    "\n",
    "mlp_clf.fit(train_x, train_y)"
   ]
  },
  {
   "cell_type": "code",
   "execution_count": 15,
   "id": "19342313-d975-4f8c-aa56-dabacf85d67e",
   "metadata": {},
   "outputs": [],
   "source": [
    "pred = mlp_clf.predict(test_x)"
   ]
  },
  {
   "cell_type": "code",
   "execution_count": 16,
   "id": "a15d281b-2de4-47fb-b914-d34c1fecca08",
   "metadata": {},
   "outputs": [
    {
     "data": {
      "text/html": [
       "<div>\n",
       "<style scoped>\n",
       "    .dataframe tbody tr th:only-of-type {\n",
       "        vertical-align: middle;\n",
       "    }\n",
       "\n",
       "    .dataframe tbody tr th {\n",
       "        vertical-align: top;\n",
       "    }\n",
       "\n",
       "    .dataframe thead th {\n",
       "        text-align: right;\n",
       "    }\n",
       "</style>\n",
       "<table border=\"1\" class=\"dataframe\">\n",
       "  <thead>\n",
       "    <tr style=\"text-align: right;\">\n",
       "      <th></th>\n",
       "      <th>Accuracy</th>\n",
       "      <th>Precision</th>\n",
       "      <th>Recall</th>\n",
       "      <th>F1</th>\n",
       "    </tr>\n",
       "  </thead>\n",
       "  <tbody>\n",
       "    <tr>\n",
       "      <th>0</th>\n",
       "      <td>0.774194</td>\n",
       "      <td>0.785714</td>\n",
       "      <td>0.733333</td>\n",
       "      <td>0.758621</td>\n",
       "    </tr>\n",
       "  </tbody>\n",
       "</table>\n",
       "</div>"
      ],
      "text/plain": [
       "   Accuracy  Precision    Recall        F1\n",
       "0  0.774194   0.785714  0.733333  0.758621"
      ]
     },
     "execution_count": 16,
     "metadata": {},
     "output_type": "execute_result"
    }
   ],
   "source": [
    "fin_dict = {\n",
    "    \"Accuracy\": [accuracy_score(pred, test_y)],\n",
    "    \"Precision\": [precision_score(pred, test_y)],\n",
    "    \"Recall\": [recall_score(pred, test_y)],\n",
    "    \"F1\": [f1_score(pred, test_y)]\n",
    "}\n",
    "\n",
    "results = pd.DataFrame(fin_dict)\n",
    "\n",
    "results"
   ]
  },
  {
   "cell_type": "code",
   "execution_count": 17,
   "id": "05ca30ff-9013-48e1-abe4-b7a10801932e",
   "metadata": {},
   "outputs": [
    {
     "data": {
      "text/plain": [
       "{'clf__hidden_layer_sizes': (1000, 1000, 1000), 'clf__max_iter': 2500}"
      ]
     },
     "execution_count": 17,
     "metadata": {},
     "output_type": "execute_result"
    }
   ],
   "source": [
    "mlp_clf.best_params_"
   ]
  },
  {
   "cell_type": "code",
   "execution_count": 18,
   "id": "57f5247a-6472-4e7d-b24e-8430cf276ec6",
   "metadata": {},
   "outputs": [
    {
     "data": {
      "text/plain": [
       "<sklearn.metrics._plot.roc_curve.RocCurveDisplay at 0x167ffab7a30>"
      ]
     },
     "execution_count": 18,
     "metadata": {},
     "output_type": "execute_result"
    },
    {
     "data": {
      "image/png": "[encoded data removed]",
      "text/plain": [
       "<Figure size 432x288 with 1 Axes>"
      ]
     },
     "metadata": {
      "needs_background": "light"
     },
     "output_type": "display_data"
    }
   ],
   "source": [
    "RocCurveDisplay.from_predictions(test_y, pred)"
   ]
  },
  {
   "cell_type": "code",
   "execution_count": 19,
   "id": "58173b4b-3221-49bb-90a1-fc25f4d8d534",
   "metadata": {},
   "outputs": [],
   "source": [
    "eval_df = pd.DataFrame(set_dtypes(eval_df))"
   ]
  },
  {
   "cell_type": "code",
   "execution_count": 20,
   "id": "a0a699b4-b429-4e43-a2bd-82be3b672d25",
   "metadata": {},
   "outputs": [
    {
     "data": {
      "text/plain": [
       "(617, 11)"
      ]
     },
     "execution_count": 20,
     "metadata": {},
     "output_type": "execute_result"
    }
   ],
   "source": [
    "eval_df.shape"
   ]
  },
  {
   "cell_type": "code",
   "execution_count": 21,
   "id": "efd58e68-787c-4834-85f5-17099fbca979",
   "metadata": {},
   "outputs": [
    {
     "data": {
      "text/html": [
       "<div>\n",
       "<style scoped>\n",
       "    .dataframe tbody tr th:only-of-type {\n",
       "        vertical-align: middle;\n",
       "    }\n",
       "\n",
       "    .dataframe tbody tr th {\n",
       "        vertical-align: top;\n",
       "    }\n",
       "\n",
       "    .dataframe thead th {\n",
       "        text-align: right;\n",
       "    }\n",
       "</style>\n",
       "<table border=\"1\" class=\"dataframe\">\n",
       "  <thead>\n",
       "    <tr style=\"text-align: right;\">\n",
       "      <th></th>\n",
       "      <th>age</th>\n",
       "      <th>sex</th>\n",
       "      <th>cp</th>\n",
       "      <th>trestbps</th>\n",
       "      <th>chol</th>\n",
       "      <th>fbs</th>\n",
       "      <th>restecg</th>\n",
       "      <th>thalach</th>\n",
       "      <th>exang</th>\n",
       "      <th>oldpeak</th>\n",
       "      <th>slope</th>\n",
       "    </tr>\n",
       "  </thead>\n",
       "  <tbody>\n",
       "    <tr>\n",
       "      <th>0</th>\n",
       "      <td>28</td>\n",
       "      <td>1</td>\n",
       "      <td>2</td>\n",
       "      <td>130</td>\n",
       "      <td>132</td>\n",
       "      <td>0</td>\n",
       "      <td>2.0</td>\n",
       "      <td>185</td>\n",
       "      <td>0</td>\n",
       "      <td>0.0</td>\n",
       "      <td>NaN</td>\n",
       "    </tr>\n",
       "    <tr>\n",
       "      <th>1</th>\n",
       "      <td>29</td>\n",
       "      <td>1</td>\n",
       "      <td>2</td>\n",
       "      <td>120</td>\n",
       "      <td>243</td>\n",
       "      <td>0</td>\n",
       "      <td>0.0</td>\n",
       "      <td>160</td>\n",
       "      <td>0</td>\n",
       "      <td>0.0</td>\n",
       "      <td>NaN</td>\n",
       "    </tr>\n",
       "    <tr>\n",
       "      <th>2</th>\n",
       "      <td>29</td>\n",
       "      <td>1</td>\n",
       "      <td>2</td>\n",
       "      <td>140</td>\n",
       "      <td>&lt;NA&gt;</td>\n",
       "      <td>0</td>\n",
       "      <td>0.0</td>\n",
       "      <td>170</td>\n",
       "      <td>0</td>\n",
       "      <td>0.0</td>\n",
       "      <td>NaN</td>\n",
       "    </tr>\n",
       "    <tr>\n",
       "      <th>3</th>\n",
       "      <td>30</td>\n",
       "      <td>0</td>\n",
       "      <td>1</td>\n",
       "      <td>170</td>\n",
       "      <td>237</td>\n",
       "      <td>0</td>\n",
       "      <td>1.0</td>\n",
       "      <td>170</td>\n",
       "      <td>0</td>\n",
       "      <td>0.0</td>\n",
       "      <td>NaN</td>\n",
       "    </tr>\n",
       "    <tr>\n",
       "      <th>4</th>\n",
       "      <td>31</td>\n",
       "      <td>0</td>\n",
       "      <td>2</td>\n",
       "      <td>100</td>\n",
       "      <td>219</td>\n",
       "      <td>0</td>\n",
       "      <td>1.0</td>\n",
       "      <td>150</td>\n",
       "      <td>0</td>\n",
       "      <td>0.0</td>\n",
       "      <td>NaN</td>\n",
       "    </tr>\n",
       "  </tbody>\n",
       "</table>\n",
       "</div>"
      ],
      "text/plain": [
       "   age sex cp  trestbps  chol  fbs restecg  thalach  exang  oldpeak slope\n",
       "0   28   1  2       130   132    0     2.0      185      0      0.0   NaN\n",
       "1   29   1  2       120   243    0     0.0      160      0      0.0   NaN\n",
       "2   29   1  2       140  <NA>    0     0.0      170      0      0.0   NaN\n",
       "3   30   0  1       170   237    0     1.0      170      0      0.0   NaN\n",
       "4   31   0  2       100   219    0     1.0      150      0      0.0   NaN"
      ]
     },
     "execution_count": 21,
     "metadata": {},
     "output_type": "execute_result"
    }
   ],
   "source": [
    "eval_df.head()"
   ]
  },
  {
   "cell_type": "code",
   "execution_count": 22,
   "id": "a010596c-243b-4ea7-8ab1-5e0424c5f8ea",
   "metadata": {},
   "outputs": [
    {
     "data": {
      "text/html": [
       "<div>\n",
       "<style scoped>\n",
       "    .dataframe tbody tr th:only-of-type {\n",
       "        vertical-align: middle;\n",
       "    }\n",
       "\n",
       "    .dataframe tbody tr th {\n",
       "        vertical-align: top;\n",
       "    }\n",
       "\n",
       "    .dataframe thead th {\n",
       "        text-align: right;\n",
       "    }\n",
       "</style>\n",
       "<table border=\"1\" class=\"dataframe\">\n",
       "  <thead>\n",
       "    <tr style=\"text-align: right;\">\n",
       "      <th></th>\n",
       "      <th>Accuracy</th>\n",
       "      <th>Precision</th>\n",
       "      <th>Recall</th>\n",
       "      <th>F1</th>\n",
       "    </tr>\n",
       "  </thead>\n",
       "  <tbody>\n",
       "    <tr>\n",
       "      <th>0</th>\n",
       "      <td>0.672609</td>\n",
       "      <td>0.683784</td>\n",
       "      <td>0.748521</td>\n",
       "      <td>0.714689</td>\n",
       "    </tr>\n",
       "  </tbody>\n",
       "</table>\n",
       "</div>"
      ],
      "text/plain": [
       "   Accuracy  Precision    Recall        F1\n",
       "0  0.672609   0.683784  0.748521  0.714689"
      ]
     },
     "execution_count": 22,
     "metadata": {},
     "output_type": "execute_result"
    }
   ],
   "source": [
    "optimised_clf = mlp_clf.best_estimator_\n",
    "\n",
    "eval_pred = optimised_clf.predict(eval_df)\n",
    "\n",
    "eval_dict = {\n",
    "    \"Accuracy\": [accuracy_score(eval_pred, eval_y)],\n",
    "    \"Precision\": [precision_score(eval_pred, eval_y)],\n",
    "    \"Recall\": [recall_score(eval_pred, eval_y)],\n",
    "    \"F1\": [f1_score(eval_pred, eval_y)]\n",
    "}\n",
    "\n",
    "eval_results = pd.DataFrame(eval_dict)\n",
    "\n",
    "eval_results"
   ]
  },
  {
   "cell_type": "code",
   "execution_count": null,
   "id": "f386ac3e-8a34-4ee5-94cd-185181e8e3f7",
   "metadata": {},
   "outputs": [],
   "source": []
  },
  {
   "cell_type": "code",
   "execution_count": null,
   "id": "a2257dba-2950-4b9e-81c0-8fae24c40c99",
   "metadata": {},
   "outputs": [],
   "source": []
  }
 ],
 "metadata": {
  "kernelspec": {
   "display_name": "Python 3 (ipykernel)",
   "language": "python",
   "name": "python3"
  },
  "language_info": {
   "codemirror_mode": {
    "name": "ipython",
    "version": 3
   },
   "file_extension": ".py",
   "mimetype": "text/x-python",
   "name": "python",
   "nbconvert_exporter": "python",
   "pygments_lexer": "ipython3",
   "version": "3.10.0"
  }
 },
 "nbformat": 4,
 "nbformat_minor": 5
}
