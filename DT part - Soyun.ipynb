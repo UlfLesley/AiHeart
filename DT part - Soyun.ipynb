{
 "cells": [
  {
   "cell_type": "code",
   "execution_count": null,
   "id": "b84555ee",
   "metadata": {},
   "outputs": [],
   "source": [
    "Decision Tree Classifier"
   ]
  },
  {
   "cell_type": "code",
   "execution_count": 38,
   "id": "9d082031",
   "metadata": {},
   "outputs": [
    {
     "name": "stdout",
     "output_type": "stream",
     "text": [
      "Fitting 5 folds for each of 162 candidates, totalling 810 fits\n"
     ]
    },
    {
     "name": "stderr",
     "output_type": "stream",
     "text": [
      "C:\\Users\\iberr\\anaconda3\\lib\\site-packages\\sklearn\\model_selection\\_search.py:922: UserWarning: One or more of the test scores are non-finite: [0.71256831 0.72961749 0.70617486 0.71967213 0.5510929  0.54125683\n",
      " 0.71284153 0.71912568 0.6563388  0.70617486 0.56420765 0.54125683\n",
      " 0.71606557 0.78218579 0.71256831 0.73278689 0.56420765 0.54125683\n",
      " 0.75245902 0.75262295 0.71278689 0.72617486 0.54125683 0.54125683\n",
      " 0.71612022 0.7689071  0.73879781 0.71601093 0.54125683 0.54125683\n",
      " 0.72251366 0.76213115 0.70601093 0.70256831 0.57404372 0.54125683\n",
      " 0.75229508 0.70617486 0.75240437 0.69912568 0.5510929  0.54125683\n",
      " 0.7126776  0.72251366 0.70655738 0.71956284 0.54125683 0.54125683\n",
      " 0.69934426 0.7131694  0.64327869 0.66666667 0.5510929  0.54125683\n",
      " 0.74562842 0.7163388  0.67661202 0.75213115 0.54125683 0.54125683\n",
      " 0.73234973 0.72918033 0.66027322 0.74245902 0.54125683 0.54125683\n",
      " 0.72262295 0.75584699 0.72262295 0.71295082 0.5510929  0.5510929\n",
      " 0.75234973 0.69928962 0.71256831 0.75229508 0.54125683 0.54125683\n",
      " 0.74557377 0.75240437 0.71256831 0.6668306  0.54125683 0.5510929\n",
      " 0.70967213 0.78196721 0.68010929 0.74584699 0.54125683 0.54125683\n",
      " 0.70956284 0.72579235 0.73923497 0.73584699 0.54125683 0.54125683\n",
      " 0.71284153 0.70284153 0.68983607 0.69595628 0.54125683 0.54125683\n",
      " 0.68010929 0.72622951 0.74218579 0.69606557 0.5510929  0.54125683\n",
      "        nan        nan        nan        nan        nan        nan\n",
      "        nan        nan        nan        nan        nan        nan\n",
      "        nan        nan        nan        nan        nan        nan\n",
      "        nan        nan        nan        nan        nan        nan\n",
      "        nan        nan        nan        nan        nan        nan\n",
      "        nan        nan        nan        nan        nan        nan\n",
      "        nan        nan        nan        nan        nan        nan\n",
      "        nan        nan        nan        nan        nan        nan\n",
      "        nan        nan        nan        nan        nan        nan]\n",
      "  warnings.warn(\n"
     ]
    },
    {
     "data": {
      "text/plain": [
       "0.7821857923497267"
      ]
     },
     "execution_count": 38,
     "metadata": {},
     "output_type": "execute_result"
    }
   ],
   "source": [
    "#Apply grid search to find the best parameters in Decision Tree classifier\n",
    "\n",
    "from sklearn.model_selection import GridSearchCV\n",
    "\n",
    "dt_params = {\"criterion\":['gini','entropy','log_loss'],\n",
    "             \"splitter\":['best','random'],\n",
    "             \"max_depth\":[2,5,10],\n",
    "             \"min_weight_fraction_leaf\":[0,0.25,0.5],\n",
    "             \"max_features\":['auto','sqrt','log2']          \n",
    "             }\n",
    "dt_grid = GridSearchCV(DecisionTreeClassifier(), dt_params, verbose=5, n_jobs=-1)\n",
    "dt_grid.fit(data_X, data_y)\n",
    "dt_grid.best_score_"
   ]
  },
  {
   "cell_type": "code",
   "execution_count": 5,
   "id": "7000cd2f",
   "metadata": {},
   "outputs": [
    {
     "name": "stdout",
     "output_type": "stream",
     "text": [
      "['age' 'trestbps' 'chol' 'fbs' 'thalach' 'exang' 'oldpeak' 'sex_0.0'\n",
      " 'sex_1.0' 'cp_1.0' 'cp_2.0' 'cp_3.0' 'cp_4.0' 'restecg_0.0' 'restecg_1.0'\n",
      " 'restecg_2.0' 'slope_1.0' 'slope_2.0' 'slope_3.0' 'thal_3.0' 'thal_6.0'\n",
      " 'thal_7.0']\n"
     ]
    }
   ],
   "source": [
    "#Models that we have used are the followings : SVC, KNN, DT, RF\n",
    "from sklearn.model_selection import cross_validate\n",
    "from sklearn.preprocessing import MinMaxScaler\n",
    "from sklearn.linear_model import LogisticRegression\n",
    "from sklearn.svm import SVC\n",
    "from sklearn.tree import DecisionTreeClassifier\n",
    "from sklearn.neighbors import KNeighborsClassifier\n",
    "from sklearn.ensemble import RandomForestClassifier, AdaBoostClassifier, GradientBoostingClassifier\n",
    "from sklearn.metrics import accuracy_score, precision_score, recall_score, f1_score\n",
    "np.random.seed(42)\n",
    "\n",
    "X = df_processed.drop(\"target\", axis=1)\n",
    "y = df_processed[\"target\"]\n",
    "\n",
    "# Finally, we need transform from Pandas DataFrame to numerical Arrays, and store the column names\n",
    "data_X = X.values\n",
    "data_y = y.values\n",
    "\n",
    "data_colnames = X.columns.values\n",
    "print(data_colnames)\n",
    "\n",
    "# Normalisation of feature vector since SVC and KNN require normalisation\n",
    "scaler = MinMaxScaler()\n",
    "data_X = scaler.fit_transform(data_X)"
   ]
  },
  {
   "cell_type": "code",
   "execution_count": 6,
   "id": "6aa4cf5d",
   "metadata": {},
   "outputs": [],
   "source": [
    "from sklearn.model_selection import cross_validate\n",
    "\n",
    "# Collate models, metrics and evaluation statistics\n",
    "models = {\n",
    "    \"Logistic Regression\": LogisticRegression(),\n",
    "    \"DT\": DecisionTreeClassifier(),\n",
    "    \"RF\": RandomForestClassifier(),\n",
    "    \"GBDT\": GradientBoostingClassifier(),\n",
    "    \"AdaBoost\": AdaBoostClassifier(),\n",
    "    \"KNN\": KNeighborsClassifier(),\n",
    "    \"SVC\": SVC()}\n",
    "\n",
    "\n",
    "metrics = [\"accuracy\", \"precision_macro\", \"recall_macro\", \"f1_macro\"]\n",
    "\n",
    "result_eval = pd.DataFrame({ \"classifier_name\":[],\n",
    "                                    \"fit_time\": [],\n",
    "                                    \"score_time\": [],\n",
    "                                    \"test_accuracy\": [],\n",
    "                                    \"test_precision_macro\": [],\n",
    "                                    \"test_recall_macro\": [],\n",
    "                                    \"test_f1_macro\": []})\n",
    "\n",
    "# Testing and evaluating models \n",
    "for name, classifier in models.items():\n",
    "    \n",
    "    np.random.seed(42)\n",
    "        \n",
    "    scores_cv = cross_validate(classifier, data_X, data_y, cv=5, scoring=metrics)\n",
    "\n",
    "    dict_this_result = {\"classifier_name\":[name],}\n",
    "    \n",
    "    for metric_name, score_per_fold in scores_cv.items():\n",
    "        dict_this_result[metric_name] = [scores_cv[metric_name].mean()]\n",
    "\n",
    "    this_result = pd.DataFrame(dict_this_result)\n",
    "    result_eval = pd.concat([result_eval, this_result], ignore_index=True)"
   ]
  },
  {
   "cell_type": "code",
   "execution_count": 40,
   "id": "91331d82",
   "metadata": {},
   "outputs": [
    {
     "data": {
      "text/plain": [
       "{'criterion': 'gini',\n",
       " 'max_depth': 2,\n",
       " 'max_features': 'log2',\n",
       " 'min_weight_fraction_leaf': 0,\n",
       " 'splitter': 'random'}"
      ]
     },
     "execution_count": 40,
     "metadata": {},
     "output_type": "execute_result"
    }
   ],
   "source": [
    "dt_grid.best_params_"
   ]
  },
  {
   "cell_type": "code",
   "execution_count": 41,
   "id": "f4bd3e07",
   "metadata": {},
   "outputs": [
    {
     "data": {
      "text/plain": [
       "DecisionTreeClassifier(max_depth=2, max_features='log2',\n",
       "                       min_weight_fraction_leaf=0, splitter='random')"
      ]
     },
     "execution_count": 41,
     "metadata": {},
     "output_type": "execute_result"
    }
   ],
   "source": [
    "dt_grid.best_estimator_"
   ]
  },
  {
   "cell_type": "code",
   "execution_count": 49,
   "id": "f24a9f7f",
   "metadata": {},
   "outputs": [],
   "source": [
    "#Print out the result\n",
    "dt_model={\"Decision Tree\":DecisionTreeClassifier(max_depth=2, max_features='log2',\n",
    "                                                 min_weight_fraction_leaf=0, splitter='random')}\n",
    "\n",
    "for name, classifier in dt_model.items():\n",
    "    \n",
    "    np.random.seed(42)\n",
    "    \n",
    "    scores_cv = cross_validate(classifier, data_X, data_y, cv=5, scoring=metrics)\n",
    "\n",
    "    dict_dt_result = {\"classifier_name\":[name],}\n",
    "    \n",
    "    for metric_name, score_per_fold in scores_cv.items():\n",
    "        dict_dt_result[metric_name] = [scores_cv[metric_name].mean()]\n",
    "\n",
    "    dt_result = pd.DataFrame(dict_dt_result)"
   ]
  },
  {
   "cell_type": "code",
   "execution_count": 50,
   "id": "53eaaa91",
   "metadata": {},
   "outputs": [
    {
     "data": {
      "text/html": [
       "<div>\n",
       "<style scoped>\n",
       "    .dataframe tbody tr th:only-of-type {\n",
       "        vertical-align: middle;\n",
       "    }\n",
       "\n",
       "    .dataframe tbody tr th {\n",
       "        vertical-align: top;\n",
       "    }\n",
       "\n",
       "    .dataframe thead th {\n",
       "        text-align: right;\n",
       "    }\n",
       "</style>\n",
       "<table border=\"1\" class=\"dataframe\">\n",
       "  <thead>\n",
       "    <tr style=\"text-align: right;\">\n",
       "      <th></th>\n",
       "      <th>classifier_name</th>\n",
       "      <th>fit_time</th>\n",
       "      <th>score_time</th>\n",
       "      <th>test_accuracy</th>\n",
       "      <th>test_precision_macro</th>\n",
       "      <th>test_recall_macro</th>\n",
       "      <th>test_f1_macro</th>\n",
       "    </tr>\n",
       "  </thead>\n",
       "  <tbody>\n",
       "    <tr>\n",
       "      <th>0</th>\n",
       "      <td>Decision Tree</td>\n",
       "      <td>0.001197</td>\n",
       "      <td>0.003191</td>\n",
       "      <td>0.752295</td>\n",
       "      <td>0.76833</td>\n",
       "      <td>0.743603</td>\n",
       "      <td>0.74043</td>\n",
       "    </tr>\n",
       "  </tbody>\n",
       "</table>\n",
       "</div>"
      ],
      "text/plain": [
       "  classifier_name  fit_time  score_time  test_accuracy  test_precision_macro  \\\n",
       "0   Decision Tree  0.001197    0.003191       0.752295               0.76833   \n",
       "\n",
       "   test_recall_macro  test_f1_macro  \n",
       "0           0.743603        0.74043  "
      ]
     },
     "execution_count": 50,
     "metadata": {},
     "output_type": "execute_result"
    }
   ],
   "source": [
    "dt_result"
   ]
  }
 ],
 "metadata": {
  "kernelspec": {
   "display_name": "Python 3 (ipykernel)",
   "language": "python",
   "name": "python3"
  },
  "language_info": {
   "codemirror_mode": {
    "name": "ipython",
    "version": 3
   },
   "file_extension": ".py",
   "mimetype": "text/x-python",
   "name": "python",
   "nbconvert_exporter": "python",
   "pygments_lexer": "ipython3",
   "version": "3.9.7"
  }
 },
 "nbformat": 4,
 "nbformat_minor": 5
}
